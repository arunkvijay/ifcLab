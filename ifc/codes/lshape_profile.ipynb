{
 "cells": [
  {
   "cell_type": "code",
   "execution_count": 7,
   "metadata": {},
   "outputs": [],
   "source": [
    "import ifcopenshell\n",
    "import ifcopenshell.api"
   ]
  },
  {
   "cell_type": "code",
   "execution_count": 2,
   "metadata": {},
   "outputs": [],
   "source": [
    "path = '/home/lshape_profile.ifc'"
   ]
  },
  {
   "cell_type": "code",
   "execution_count": 5,
   "metadata": {},
   "outputs": [],
   "source": [
    "f = ifcopenshell.file()"
   ]
  },
  {
   "cell_type": "code",
   "execution_count": 8,
   "metadata": {},
   "outputs": [],
   "source": [
    "l_shape_profile = ifcopenshell.api.run('profile.add_parameterized_profile', f, ifc_class='IfcLShapeProfileDef')"
   ]
  },
  {
   "cell_type": "code",
   "execution_count": 10,
   "metadata": {},
   "outputs": [
    {
     "data": {
      "text/plain": [
       "{'id': 1,\n",
       " 'type': 'IfcLShapeProfileDef',\n",
       " 'ProfileType': None,\n",
       " 'ProfileName': None,\n",
       " 'Position': None,\n",
       " 'Depth': None,\n",
       " 'Width': None,\n",
       " 'Thickness': None,\n",
       " 'FilletRadius': None,\n",
       " 'EdgeRadius': None,\n",
       " 'LegSlope': None}"
      ]
     },
     "execution_count": 10,
     "metadata": {},
     "output_type": "execute_result"
    }
   ],
   "source": [
    "l_shape_profile.get_info()"
   ]
  },
  {
   "cell_type": "code",
   "execution_count": 11,
   "metadata": {},
   "outputs": [],
   "source": [
    "profile = [450, 450, 200]"
   ]
  },
  {
   "cell_type": "code",
   "execution_count": 12,
   "metadata": {},
   "outputs": [],
   "source": [
    "l_shape_profile.Width = profile[0]\n",
    "l_shape_profile.Depth = profile[1]\n",
    "l_shape_profile.Thickness = profile[2]"
   ]
  },
  {
   "cell_type": "code",
   "execution_count": 13,
   "metadata": {},
   "outputs": [
    {
     "data": {
      "text/plain": [
       "{'id': 1,\n",
       " 'type': 'IfcLShapeProfileDef',\n",
       " 'ProfileType': None,\n",
       " 'ProfileName': None,\n",
       " 'Position': None,\n",
       " 'Depth': 450.0,\n",
       " 'Width': 450.0,\n",
       " 'Thickness': 200.0,\n",
       " 'FilletRadius': None,\n",
       " 'EdgeRadius': None,\n",
       " 'LegSlope': None}"
      ]
     },
     "execution_count": 13,
     "metadata": {},
     "output_type": "execute_result"
    }
   ],
   "source": [
    "l_shape_profile.get_info()"
   ]
  },
  {
   "cell_type": "code",
   "execution_count": null,
   "metadata": {},
   "outputs": [],
   "source": []
  }
 ],
 "metadata": {
  "kernelspec": {
   "display_name": "Python 3",
   "language": "python",
   "name": "python3"
  },
  "language_info": {
   "codemirror_mode": {
    "name": "ipython",
    "version": 3
   },
   "file_extension": ".py",
   "mimetype": "text/x-python",
   "name": "python",
   "nbconvert_exporter": "python",
   "pygments_lexer": "ipython3",
   "version": "3.11.0"
  },
  "orig_nbformat": 4
 },
 "nbformat": 4,
 "nbformat_minor": 2
}
