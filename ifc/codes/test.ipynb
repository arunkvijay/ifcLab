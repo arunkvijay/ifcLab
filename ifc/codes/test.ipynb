{
 "cells": [
  {
   "cell_type": "code",
   "execution_count": 7,
   "metadata": {},
   "outputs": [
    {
     "name": "stdout",
     "output_type": "stream",
     "text": [
      "                       type_name material_category  thickness    area\n",
      "guid                                                                 \n",
      "1vc$aTlQ94cf7jas_gTrw9   WAL_200             block      200.0  8.3775\n",
      "1DWzjnhbn8xw0T0Tb4UQbM   WAL_200             block      200.0  8.2050\n",
      "2ZKNNJ4iXF9QnjdOP$WgtV   WAL_200             block      200.0  1.2900\n",
      "3_2fi1mR99tuwCh5vDAk8T   WAL_200             block      200.0  8.2050\n",
      "0sAE9Z4MPA$x_eDwNQ2B6H   WAL_200             block      200.0  1.2900\n",
      "2Xy2JEgiz6_g4vLdfDJzV2   WAL_200             block      200.0  9.3150\n",
      "1BCHJyWgD1QRu37CPSYfrw   WAL_200             block      200.0  0.9900\n",
      "3XnjL2Ua58iBg030Dxfx5Q   WAL_200             block      200.0  1.2900\n",
      "2DlmmxCjn0D9_4PViPfkp4   WAL_100             block      100.0  8.2875\n",
      "26BS0rOy17IPvVy2mPtWRp   WAL_100             block      100.0  0.5550\n",
      "type_name  material_category  thickness\n",
      "WAL_100    block              100.0         8.8425\n",
      "WAL_200    block              200.0        38.9625\n",
      "Name: area, dtype: float64\n"
     ]
    }
   ],
   "source": [
    "import pandas as pd\n",
    "from tabulate import tabulate \n",
    "\n",
    "import argparse\n",
    "\n",
    "import ifcopenshell\n",
    "import ifcopenshell.api\n",
    "import ifcopenshell.util.shape\n",
    "import ifcopenshell.geom\n",
    "\n",
    "def entity_geometry(settings, entity):\n",
    "    shape = ifcopenshell.geom.create_shape(settings, entity)\n",
    "    geometry = shape.geometry\n",
    "    return geometry\n",
    "\n",
    "ifc_file_path = '/home/simple_house/ifc/simple_house.ifc'\n",
    "\n",
    "df = pd.DataFrame(columns=['guid', 'type_name', 'material_category', 'thickness', 'area'])\n",
    "\n",
    "f = ifcopenshell.open(ifc_file_path)\n",
    "settings = ifcopenshell.geom.settings()\n",
    "walls = f.by_type('IfcWall')\n",
    "\n",
    "for wall in walls:\n",
    "    wall_dict = {col: None for col in df.columns}\n",
    "    #wall_geometry = entity_geometry(settings, wall)\n",
    "    shape = ifcopenshell.geom.create_shape(settings, wall)\n",
    "    wall_geometry = shape.geometry\n",
    "    net_side_area = ifcopenshell.util.shape.get_side_area(wall_geometry)\n",
    "    wall_dict['guid'] = wall.GlobalId\n",
    "    wall_dict['type_name'] = ifcopenshell.util.element.get_type(wall).Name\n",
    "    wall_dict['material_category'] = ifcopenshell.util.element.get_material(wall).ForLayerSet.MaterialLayers[0].Material.Category\n",
    "    wall_dict['thickness'] = ifcopenshell.util.element.get_material(wall).ForLayerSet.MaterialLayers[0].LayerThickness\n",
    "    wall_dict['area'] = net_side_area\n",
    "    #df.columns[0] = wall.GlobalId\n",
    "    #df.columns[1] = ifcopenshell.util.element.get_type(wall).Name\n",
    "    #df.columns[2] = ifcopenshell.util.element.get_material(wall).ForLayerSet.MaterialLayers[0].Material.Category\n",
    "    #df.columns[3] = ifcopenshell.util.element.get_material(wall).ForLayerSet.MaterialLayers[0].LayerThickness\n",
    "    #df.columns[4] = net_side_area\n",
    "    #df.loc[len(df)] = [df.columns[i] for i in len(df)]\n",
    "    df.loc[len(df)] = [v for k, v in wall_dict.items()]\n",
    "\n",
    "df.set_index('guid', inplace=True)\n",
    "print(df)\n",
    "print(df.groupby(['type_name', 'material_category', 'thickness'])['area'].sum())\n"
   ]
  },
  {
   "cell_type": "code",
   "execution_count": 9,
   "metadata": {},
   "outputs": [],
   "source": [
    "from tabulate import tabulate"
   ]
  },
  {
   "cell_type": "code",
   "execution_count": 10,
   "metadata": {},
   "outputs": [],
   "source": [
    "lt = tabulate(df, tablefmt='latex_raw')"
   ]
  },
  {
   "cell_type": "code",
   "execution_count": 11,
   "metadata": {},
   "outputs": [
    {
     "ename": "NameError",
     "evalue": "name 'path' is not defined",
     "output_type": "error",
     "traceback": [
      "\u001b[0;31m---------------------------------------------------------------------------\u001b[0m",
      "\u001b[0;31mNameError\u001b[0m                                 Traceback (most recent call last)",
      "Cell \u001b[0;32mIn[11], line 1\u001b[0m\n\u001b[0;32m----> 1\u001b[0m path\n",
      "\u001b[0;31mNameError\u001b[0m: name 'path' is not defined"
     ]
    }
   ],
   "source": [
    "path"
   ]
  },
  {
   "cell_type": "code",
   "execution_count": null,
   "metadata": {},
   "outputs": [],
   "source": []
  }
 ],
 "metadata": {
  "kernelspec": {
   "display_name": "Python 3",
   "language": "python",
   "name": "python3"
  },
  "language_info": {
   "codemirror_mode": {
    "name": "ipython",
    "version": 3
   },
   "file_extension": ".py",
   "mimetype": "text/x-python",
   "name": "python",
   "nbconvert_exporter": "python",
   "pygments_lexer": "ipython3",
   "version": "3.11.0"
  },
  "orig_nbformat": 4
 },
 "nbformat": 4,
 "nbformat_minor": 2
}
