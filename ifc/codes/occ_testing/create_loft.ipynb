{
 "cells": [
  {
   "cell_type": "code",
   "execution_count": 1,
   "id": "4948a452-57a0-4794-bba2-2552e74521b0",
   "metadata": {},
   "outputs": [],
   "source": [
    "from OCC.Core.gp import gp_Pnt\n",
    "from OCC.Core.BRepBuilderAPI import BRepBuilderAPI_MakePolygon\n",
    "from OCC.Core.BRepOffsetAPI import BRepOffsetAPI_ThruSections"
   ]
  },
  {
   "cell_type": "code",
   "execution_count": 2,
   "id": "90dd0dba-9a3f-4bc4-b670-553e0b8b1b24",
   "metadata": {},
   "outputs": [],
   "source": [
    "points_bottom = [\n",
    "    gp_Pnt(0, 0, 0),\n",
    "    gp_Pnt(300, 0, 0),\n",
    "    gp_Pnt(300, 400, 0),\n",
    "    gp_Pnt(0, 400, 0)\n",
    "]"
   ]
  },
  {
   "cell_type": "code",
   "execution_count": 3,
   "id": "a95e991f-8ac3-4c9e-af4b-418b46aa6cd5",
   "metadata": {},
   "outputs": [],
   "source": [
    "points_top = [\n",
    "    gp_Pnt(0, 0, 100),\n",
    "    gp_Pnt(150, 0, 100),\n",
    "    gp_Pnt(150, 200, 100),\n",
    "    gp_Pnt(0, 200, 100)\n",
    "]"
   ]
  },
  {
   "cell_type": "code",
   "execution_count": 20,
   "id": "76419b36-d274-42f8-8c18-4349a004c974",
   "metadata": {},
   "outputs": [
    {
     "data": {
      "text/plain": [
       "[<class 'gp_Pnt'>, <class 'gp_Pnt'>, <class 'gp_Pnt'>, <class 'gp_Pnt'>]"
      ]
     },
     "execution_count": 20,
     "metadata": {},
     "output_type": "execute_result"
    }
   ],
   "source": [
    "points_top"
   ]
  },
  {
   "cell_type": "code",
   "execution_count": 4,
   "id": "8ed287dc-41a2-47c1-8123-3300e777dfba",
   "metadata": {},
   "outputs": [],
   "source": [
    "polygon_bottom = BRepBuilderAPI_MakePolygon()\n",
    "for point in points_bottom:\n",
    "    polygon_bottom.Add(point)\n",
    "polygon_bottom.Close()"
   ]
  },
  {
   "cell_type": "code",
   "execution_count": 5,
   "id": "fa2272ab-c891-40b1-9813-2792c28f5b6c",
   "metadata": {},
   "outputs": [],
   "source": [
    "polygon_top = BRepBuilderAPI_MakePolygon()\n",
    "for point in points_top:\n",
    "    polygon_top.Add(point)\n",
    "polygon_top.Close()"
   ]
  },
  {
   "cell_type": "code",
   "execution_count": 6,
   "id": "d4b4a3fd-6201-4c47-9c71-fba8910975e5",
   "metadata": {},
   "outputs": [],
   "source": [
    "loft_builder = BRepOffsetAPI_ThruSections(True)\n",
    "loft_builder.AddWire(polygon_bottom.Wire())\n",
    "loft_builder.AddWire(polygon_top.Wire())\n",
    "loft_builder.Build()\n",
    "loft_shape = loft_builder.Shape()"
   ]
  },
  {
   "cell_type": "code",
   "execution_count": 7,
   "id": "557d9632-684a-4ab9-8746-fdc45eb7d8e3",
   "metadata": {},
   "outputs": [],
   "source": [
    "from OCC.Core.StlAPI import StlAPI_Writer\n",
    "stl_writer = StlAPI_Writer()\n",
    "obj_filename = 'loft.stl'\n",
    "# stl_writer.Write(loft_shape, obj_filename)"
   ]
  },
  {
   "cell_type": "code",
   "execution_count": 8,
   "id": "bff5f028-b724-4130-831a-fb09a8ad5b3f",
   "metadata": {},
   "outputs": [],
   "source": [
    "from OCC.Core.BRepTools import breptools\n",
    "# brep_tools = BRepTools()\n",
    "brep_tools = breptools()\n",
    "brep_filename = 'loft.brep'\n",
    "# brep_tools.Write(loft_shape, brep_filename)"
   ]
  },
  {
   "cell_type": "code",
   "execution_count": 9,
   "id": "e0c0f51e-c51f-493e-b0db-71454c9b0ee6",
   "metadata": {},
   "outputs": [],
   "source": [
    "from OCC.Display.SimpleGui import init_display\n",
    "# display, start_display, add_menu, add_function_to_menu = init_display()"
   ]
  },
  {
   "cell_type": "code",
   "execution_count": 10,
   "id": "a56f22e6-948c-44f0-814f-68ee6ecf189c",
   "metadata": {},
   "outputs": [],
   "source": [
    "# display.DisplayShape(loft_shape)\n",
    "# display.FitAll()\n",
    "# start_display()"
   ]
  },
  {
   "cell_type": "code",
   "execution_count": 11,
   "id": "5ae4764f-e97b-429f-bf0e-fc040188b161",
   "metadata": {},
   "outputs": [],
   "source": [
    "import ifcopenshell\n",
    "import ifcopenshell.util\n",
    "import ifcopenshell.util.representation\n",
    "import ifcopenshell.api\n",
    "import ifcopenshell.geom"
   ]
  },
  {
   "cell_type": "code",
   "execution_count": 12,
   "id": "64a0974e-a8ed-48e1-8941-383a2da23bc0",
   "metadata": {},
   "outputs": [],
   "source": [
    "path = '/home/arun/Desktop/loft.ifc'"
   ]
  },
  {
   "cell_type": "code",
   "execution_count": 13,
   "id": "34b7f4c5-3de8-469d-9ba0-0d9a2602d568",
   "metadata": {},
   "outputs": [],
   "source": [
    "f = ifcopenshell.open(path)"
   ]
  },
  {
   "cell_type": "code",
   "execution_count": 14,
   "id": "c19d59ce-a133-4ed8-9e0b-d32d8f34ba86",
   "metadata": {},
   "outputs": [],
   "source": [
    "test = ifcopenshell.api.run('root.create_entity', f, ifc_class='IfcBuildingElementProxy', name='Testy')"
   ]
  },
  {
   "cell_type": "code",
   "execution_count": 15,
   "id": "af9f7702-9b48-47ed-a9e2-0cafbbaba4e5",
   "metadata": {},
   "outputs": [],
   "source": [
    "settings = ifcopenshell.geom.settings()\n",
    "settings.set(settings.USE_PYTHON_OPENCASCADE, True)"
   ]
  },
  {
   "cell_type": "code",
   "execution_count": 16,
   "id": "63ea8a24-e934-4408-8643-8ccae23d2df8",
   "metadata": {},
   "outputs": [],
   "source": [
    "rep = ifcopenshell.geom.serialise(f.schema, loft_shape)\n",
    "f.add(rep)\n",
    "test.Representation = rep"
   ]
  },
  {
   "cell_type": "code",
   "execution_count": 17,
   "id": "f35304b2-0545-42c4-81ba-c7197c88fea7",
   "metadata": {},
   "outputs": [],
   "source": [
    "body = ifcopenshell.util.representation.get_context(f, context='Model', subcontext='Body')"
   ]
  },
  {
   "cell_type": "code",
   "execution_count": 18,
   "id": "2aa3b095-0c61-4d35-86e4-e352dafae325",
   "metadata": {},
   "outputs": [],
   "source": [
    "test.Representation.Representations[0].ContextOfItems = body"
   ]
  },
  {
   "cell_type": "code",
   "execution_count": 19,
   "id": "339b875b-e0c9-4aa2-8858-baefe14bf564",
   "metadata": {},
   "outputs": [],
   "source": [
    "f.write(path)"
   ]
  }
 ],
 "metadata": {
  "kernelspec": {
   "display_name": "Python 3 (ipykernel)",
   "language": "python",
   "name": "python3"
  },
  "language_info": {
   "codemirror_mode": {
    "name": "ipython",
    "version": 3
   },
   "file_extension": ".py",
   "mimetype": "text/x-python",
   "name": "python",
   "nbconvert_exporter": "python",
   "pygments_lexer": "ipython3",
   "version": "3.11.0"
  }
 },
 "nbformat": 4,
 "nbformat_minor": 5
}
