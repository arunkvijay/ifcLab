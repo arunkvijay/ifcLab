{
 "cells": [
  {
   "cell_type": "code",
   "execution_count": 2,
   "metadata": {},
   "outputs": [],
   "source": [
    "import ifcopenshell\n",
    "import ifcopenshell.geom"
   ]
  },
  {
   "cell_type": "code",
   "execution_count": 3,
   "metadata": {},
   "outputs": [],
   "source": [
    "import OCC"
   ]
  },
  {
   "cell_type": "code",
   "execution_count": 4,
   "metadata": {},
   "outputs": [
    {
     "data": {
      "text/plain": [
       "'7.7.0'"
      ]
     },
     "execution_count": 4,
     "metadata": {},
     "output_type": "execute_result"
    }
   ],
   "source": [
    "OCC.VERSION"
   ]
  },
  {
   "cell_type": "code",
   "execution_count": 8,
   "metadata": {},
   "outputs": [
    {
     "data": {
      "text/plain": [
       "['BRepTools_CopyModification',\n",
       " 'BRepTools_GTrsfModification',\n",
       " 'BRepTools_History',\n",
       " 'BRepTools_History_IsSupportedType',\n",
       " 'BRepTools_MapOfVertexPnt2d',\n",
       " 'BRepTools_Modification',\n",
       " 'BRepTools_Modifier',\n",
       " 'BRepTools_NurbsConvertModification',\n",
       " 'BRepTools_PurgeLocations',\n",
       " 'BRepTools_Quilt',\n",
       " 'BRepTools_ReShape',\n",
       " 'BRepTools_ShapeSet',\n",
       " 'BRepTools_Substitution',\n",
       " 'BRepTools_TrsfModification',\n",
       " 'BRepTools_WireExplorer',\n",
       " 'ClassNotWrappedError',\n",
       " 'Handle_BRepTools_CopyModification_Create',\n",
       " 'Handle_BRepTools_CopyModification_DownCast',\n",
       " 'Handle_BRepTools_CopyModification_IsNull',\n",
       " 'Handle_BRepTools_GTrsfModification_Create',\n",
       " 'Handle_BRepTools_GTrsfModification_DownCast',\n",
       " 'Handle_BRepTools_GTrsfModification_IsNull',\n",
       " 'Handle_BRepTools_History_Create',\n",
       " 'Handle_BRepTools_History_DownCast',\n",
       " 'Handle_BRepTools_History_IsNull',\n",
       " 'Handle_BRepTools_Modification_Create',\n",
       " 'Handle_BRepTools_Modification_DownCast',\n",
       " 'Handle_BRepTools_Modification_IsNull',\n",
       " 'Handle_BRepTools_NurbsConvertModification_Create',\n",
       " 'Handle_BRepTools_NurbsConvertModification_DownCast',\n",
       " 'Handle_BRepTools_NurbsConvertModification_IsNull',\n",
       " 'Handle_BRepTools_ReShape_Create',\n",
       " 'Handle_BRepTools_ReShape_DownCast',\n",
       " 'Handle_BRepTools_ReShape_IsNull',\n",
       " 'Handle_BRepTools_TrsfModification_Create',\n",
       " 'Handle_BRepTools_TrsfModification_DownCast',\n",
       " 'Handle_BRepTools_TrsfModification_IsNull',\n",
       " 'IntEnum',\n",
       " 'MethodNotWrappedError',\n",
       " 'OCC',\n",
       " 'Proxy',\n",
       " 'SwigPyIterator',\n",
       " '_BRepTools',\n",
       " '_SwigNonDynamicMeta',\n",
       " '__builtin__',\n",
       " '__builtins__',\n",
       " '__cached__',\n",
       " '__doc__',\n",
       " '__file__',\n",
       " '__loader__',\n",
       " '__name__',\n",
       " '__package__',\n",
       " '__spec__',\n",
       " '_dumps_object',\n",
       " '_swig_add_metaclass',\n",
       " '_swig_python_version_info',\n",
       " '_swig_repr',\n",
       " '_swig_setattr_nondynamic_class_variable',\n",
       " '_swig_setattr_nondynamic_instance_variable',\n",
       " 'breptools',\n",
       " 'breptools_ActivateTriangulation',\n",
       " 'breptools_AddUVBounds',\n",
       " 'breptools_CheckLocations',\n",
       " 'breptools_Clean',\n",
       " 'breptools_CleanGeometry',\n",
       " 'breptools_Compare',\n",
       " 'breptools_DetectClosedness',\n",
       " 'breptools_EvalAndUpdateTol',\n",
       " 'breptools_IsReallyClosed',\n",
       " 'breptools_LoadAllTriangulations',\n",
       " 'breptools_LoadTriangulation',\n",
       " 'breptools_Map3DEdges',\n",
       " 'breptools_OriEdgeInFace',\n",
       " 'breptools_OuterWire',\n",
       " 'breptools_Read',\n",
       " 'breptools_ReadFromString',\n",
       " 'breptools_RemoveInternals',\n",
       " 'breptools_RemoveUnusedPCurves',\n",
       " 'breptools_Triangulation',\n",
       " 'breptools_UVBounds',\n",
       " 'breptools_UnloadAllTriangulations',\n",
       " 'breptools_UnloadTriangulation',\n",
       " 'breptools_Update',\n",
       " 'breptools_UpdateFaceUVPoints',\n",
       " 'breptools_Write',\n",
       " 'breptools_WriteToString',\n",
       " 'classnotwrapped',\n",
       " 'deprecated',\n",
       " 'methodnotwrapped',\n",
       " 'process_exception',\n",
       " 'warnings',\n",
       " 'with_metaclass']"
      ]
     },
     "execution_count": 8,
     "metadata": {},
     "output_type": "execute_result"
    }
   ],
   "source": [
    "dir(OCC.Core.BRepTools)"
   ]
  },
  {
   "cell_type": "code",
   "execution_count": 3,
   "metadata": {},
   "outputs": [],
   "source": [
    "from OCC.Display.SimpleGui import  "
   ]
  },
  {
   "cell_type": "code",
   "execution_count": 4,
   "metadata": {},
   "outputs": [
    {
     "name": "stdout",
     "output_type": "stream",
     "text": [
      "wxPython backend -  4.2.0 gtk2 (phoenix) wxWidgets 3.2.0\n",
      "####### 3D rendering pipe initialisation #####\n",
      "Display3d class initialization starting ...\n",
      "Aspect_DisplayConnection created.\n",
      "OpenGl_GraphicDriver created.\n",
      "V3d_Viewer created.\n",
      "AIS_InteractiveContext created.\n",
      "V3d_View created\n"
     ]
    },
    {
     "name": "stderr",
     "output_type": "stream",
     "text": [
      "Gtk-Message: 17:42:55.619: Failed to load module \"atk-bridge\"\n",
      "Gtk-Message: 17:42:55.635: Failed to load module \"canberra-gtk-module\"\n",
      "\n",
      "(ipykernel_launcher.py:4759): Gdk-WARNING **: 17:42:55.742: gdkdrawable-x11.c:952 drawable is not a pixmap or window\n"
     ]
    },
    {
     "name": "stdout",
     "output_type": "stream",
     "text": [
      "Xw_Window created.\n",
      "Display3d class successfully initialized.\n",
      "#########################################\n",
      "OpenGl information:\n",
      "  GLvendor: NVIDIA Corporation\n",
      "  GLdevice: NVIDIA GeForce GTX 1060 6GB/PCIe/SSE2\n",
      "  GLversion: 4.6.0 NVIDIA 535.104.05\n",
      "  GLSLversion: 4.60 NVIDIA\n",
      "  Max texture size: 32768\n",
      "  Max FBO dump size: 32768x32768\n",
      "  Max combined texture units: 192\n",
      "  Max MSAA samples: 32\n",
      "  Viewport: 1024x731\n",
      "  Window buffer: RGB8 ALPHA0 DEPTH24 STENCIL8\n",
      "  ResolutionRatio: 1\n",
      "  FBO buffer: GL_SRGB8_ALPHA8 GL_DEPTH24_STENCIL8\n"
     ]
    },
    {
     "data": {
      "text/plain": [
       "(<OCC.Display.OCCViewer.Viewer3d; proxy of <Swig Object of type 'Display3d *' at 0x7f731bf69cb0> >,\n",
       " <function OCC.Display.SimpleGui.init_display.<locals>.start_display() -> None>,\n",
       " <function OCC.Display.SimpleGui.init_display.<locals>.add_menu(*args, **kwargs) -> None>,\n",
       " <function OCC.Display.SimpleGui.init_display.<locals>.add_function_to_menu(*args, **kwargs) -> None>)"
      ]
     },
     "execution_count": 4,
     "metadata": {},
     "output_type": "execute_result"
    }
   ],
   "source": [
    "init_display()"
   ]
  },
  {
   "cell_type": "code",
   "execution_count": null,
   "metadata": {},
   "outputs": [],
   "source": []
  }
 ],
 "metadata": {
  "kernelspec": {
   "display_name": "ai.k",
   "language": "python",
   "name": "python3"
  },
  "language_info": {
   "codemirror_mode": {
    "name": "ipython",
    "version": 3
   },
   "file_extension": ".py",
   "mimetype": "text/x-python",
   "name": "python",
   "nbconvert_exporter": "python",
   "pygments_lexer": "ipython3",
   "version": "3.11.0"
  },
  "orig_nbformat": 4
 },
 "nbformat": 4,
 "nbformat_minor": 2
}
