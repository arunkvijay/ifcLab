{
 "cells": [
  {
   "cell_type": "code",
   "execution_count": 1,
   "metadata": {},
   "outputs": [],
   "source": [
    "import ifcopenshell\n",
    "import ifcopenshell.geom"
   ]
  },
  {
   "cell_type": "code",
   "execution_count": 2,
   "metadata": {},
   "outputs": [],
   "source": [
    "path = '/home/simple_house.ifc'\n",
    "f = ifcopenshell.open(path)"
   ]
  },
  {
   "cell_type": "code",
   "execution_count": 3,
   "metadata": {},
   "outputs": [],
   "source": [
    "settings = ifcopenshell.geom.settings()\n",
    "settings.set(settings.USE_PYTHON_OPENCASCADE, True)"
   ]
  },
  {
   "cell_type": "code",
   "execution_count": 5,
   "metadata": {},
   "outputs": [
    {
     "name": "stdout",
     "output_type": "stream",
     "text": [
      "wxPython backend -  4.2.0 gtk2 (phoenix) wxWidgets 3.2.0\n",
      "####### 3D rendering pipe initialisation #####\n",
      "Display3d class initialization starting ...\n",
      "Aspect_DisplayConnection created.\n",
      "OpenGl_GraphicDriver created.\n",
      "V3d_Viewer created.\n",
      "AIS_InteractiveContext created.\n",
      "V3d_View created\n"
     ]
    },
    {
     "name": "stderr",
     "output_type": "stream",
     "text": [
      "Gtk-Message: 07:47:57.949: Failed to load module \"atk-bridge\"\n",
      "Gtk-Message: 07:47:57.956: Failed to load module \"canberra-gtk-module\"\n",
      "\n",
      "(ipykernel_launcher.py:3967): Gdk-WARNING **: 07:47:58.060: gdkdrawable-x11.c:952 drawable is not a pixmap or window\n"
     ]
    },
    {
     "name": "stdout",
     "output_type": "stream",
     "text": [
      "Xw_Window created.\n",
      "Display3d class successfully initialized.\n",
      "#########################################\n",
      "OpenGl information:\n",
      "  GLvendor: NVIDIA Corporation\n",
      "  GLdevice: NVIDIA GeForce GTX 1060 6GB/PCIe/SSE2\n",
      "  GLversion: 4.6.0 NVIDIA 535.104.05\n",
      "  GLSLversion: 4.60 NVIDIA\n",
      "  Max texture size: 32768\n",
      "  Max FBO dump size: 32768x32768\n",
      "  Max combined texture units: 192\n",
      "  Max MSAA samples: 32\n",
      "  Viewport: 1024x731\n",
      "  Window buffer: RGB8 ALPHA0 DEPTH24 STENCIL8\n",
      "  ResolutionRatio: 1\n",
      "  FBO buffer: GL_SRGB8_ALPHA8 GL_DEPTH24_STENCIL8\n"
     ]
    }
   ],
   "source": [
    "occ_display = ifcopenshell.geom.utils.initialize_display()"
   ]
  },
  {
   "cell_type": "code",
   "execution_count": 4,
   "metadata": {},
   "outputs": [],
   "source": [
    "products = f.by_type('IfcProduct')\n",
    "for p in products:\n",
    "    if p.is_a('IfcOpeningElement'):\n",
    "        continue\n",
    "    if p.Representation:\n",
    "        shape = ifcopenshell.geom.create_shape(settings, p).geometry\n",
    "        "
   ]
  },
  {
   "cell_type": "code",
   "execution_count": null,
   "metadata": {},
   "outputs": [],
   "source": []
  }
 ],
 "metadata": {
  "kernelspec": {
   "display_name": "ai.k",
   "language": "python",
   "name": "python3"
  },
  "language_info": {
   "codemirror_mode": {
    "name": "ipython",
    "version": 3
   },
   "file_extension": ".py",
   "mimetype": "text/x-python",
   "name": "python",
   "nbconvert_exporter": "python",
   "pygments_lexer": "ipython3",
   "version": "3.11.0"
  },
  "orig_nbformat": 4
 },
 "nbformat": 4,
 "nbformat_minor": 2
}
