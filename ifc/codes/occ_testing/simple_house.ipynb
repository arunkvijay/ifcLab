{
 "cells": [
  {
   "cell_type": "code",
   "execution_count": 10,
   "metadata": {},
   "outputs": [],
   "source": [
    "\n",
    "path = '/home/simple_house.ifc'"
   ]
  },
  {
   "cell_type": "code",
   "execution_count": 1,
   "metadata": {},
   "outputs": [],
   "source": [
    "import ifcopenshell\n",
    "import ifcopenshell.geom\n",
    "import ifcopenshell.util\n",
    "import ifcopenshell.util.representation\n",
    "import ifcopenshell.util.element"
   ]
  },
  {
   "cell_type": "code",
   "execution_count": 2,
   "metadata": {},
   "outputs": [],
   "source": [
    "import OCC.Core.gp\n",
    "import OCC.Core.Geom\n",
    "\n",
    "import OCC.Core.Bnd\n",
    "import OCC.Core.BRepBndLib\n",
    "\n",
    "import OCC.Core.BRep\n",
    "import OCC.Core.BRepPrimAPI\n",
    "import OCC.Core.BRepAlgoAPI\n",
    "import OCC.Core.BRepBuilderAPI\n",
    "\n",
    "import OCC.Core.GProp\n",
    "import OCC.Core.BRepGProp\n",
    "\n",
    "import OCC.Core.TopoDS\n",
    "import OCC.Core.TopExp\n",
    "import OCC.Core.TopAbs"
   ]
  },
  {
   "cell_type": "code",
   "execution_count": 3,
   "metadata": {},
   "outputs": [],
   "source": [
    "settings = ifcopenshell.geom.settings()\n",
    "settings.set(settings.USE_PYTHON_OPENCASCADE, True)"
   ]
  },
  {
   "cell_type": "code",
   "execution_count": 4,
   "metadata": {},
   "outputs": [
    {
     "name": "stdout",
     "output_type": "stream",
     "text": [
      "\u001b[0;31mSignature:\u001b[0m \u001b[0mifcopenshell\u001b[0m\u001b[0;34m.\u001b[0m\u001b[0mgeom\u001b[0m\u001b[0;34m.\u001b[0m\u001b[0mutils\u001b[0m\u001b[0;34m.\u001b[0m\u001b[0minitialize_display\u001b[0m\u001b[0;34m(\u001b[0m\u001b[0;34m)\u001b[0m\u001b[0;34m\u001b[0m\u001b[0;34m\u001b[0m\u001b[0m\n",
      "\u001b[0;31mDocstring:\u001b[0m <no docstring>\n",
      "\u001b[0;31mFile:\u001b[0m      ~/miniforge3/envs/aik/lib/python3.11/site-packages/ifcopenshell/geom/occ_utils.py\n",
      "\u001b[0;31mType:\u001b[0m      function"
     ]
    }
   ],
   "source": [
    "ifcopenshell.geom.utils.initialize_display?"
   ]
  },
  {
   "cell_type": "code",
   "execution_count": 6,
   "metadata": {},
   "outputs": [],
   "source": [
    "from OCC.Display.SimpleGui import init_display"
   ]
  },
  {
   "cell_type": "code",
   "execution_count": 7,
   "metadata": {},
   "outputs": [
    {
     "name": "stdout",
     "output_type": "stream",
     "text": [
      "qt-pyside2 backend - Qt version 5.15.8\n",
      "####### 3D rendering pipe initialisation #####\n",
      "Display3d class initialization starting ...\n",
      "Aspect_DisplayConnection created.\n",
      "OpenGl_GraphicDriver created.\n",
      "V3d_Viewer created.\n",
      "AIS_InteractiveContext created.\n",
      "V3d_View created\n",
      "Xw_Window created.\n",
      "\u001b[33;1mTKOpenGl | Type: Other | ID: 0 | Severity: Medium | Message:\n",
      "  OpenGl_Window::CreateWindow: window Visual is incomplete: no stencil buffer\u001b[0m\n",
      "Display3d class successfully initialized.\n",
      "#########################################\n"
     ]
    },
    {
     "name": "stderr",
     "output_type": "stream",
     "text": [
      "Qt: Session management error: Authentication Rejected, reason : None of the authentication protocols specified are supported and host-based authentication failed\n"
     ]
    },
    {
     "name": "stdout",
     "output_type": "stream",
     "text": [
      "OpenGl information:\n",
      "  GLvendor: NVIDIA Corporation\n",
      "  GLdevice: NVIDIA GeForce GTX 1060 6GB/PCIe/SSE2\n",
      "  GLversion: 4.6.0 NVIDIA 525.125.06\n",
      "  GLSLversion: 4.60 NVIDIA\n",
      "  Max texture size: 32768\n",
      "  Max FBO dump size: 32768x32768\n",
      "  Max combined texture units: 192\n",
      "  Max MSAA samples: 32\n",
      "  Viewport: 1023x767\n",
      "  Window buffer: RGB8 ALPHA0 DEPTH24 STENCIL0\n",
      "  ResolutionRatio: 1\n",
      "  FBO buffer: GL_SRGB8_ALPHA8 GL_DEPTH24_STENCIL8\n"
     ]
    }
   ],
   "source": [
    "display, start_display, add_menu, add_function_to_menu = init_display()"
   ]
  },
  {
   "cell_type": "code",
   "execution_count": 11,
   "metadata": {},
   "outputs": [],
   "source": [
    "f = ifcopenshell.open(path)"
   ]
  },
  {
   "cell_type": "code",
   "execution_count": 12,
   "metadata": {},
   "outputs": [],
   "source": [
    "products = f.by_type('IfcProduct')"
   ]
  },
  {
   "cell_type": "code",
   "execution_count": 13,
   "metadata": {},
   "outputs": [
    {
     "ename": "AttributeError",
     "evalue": "'NoneType' object has no attribute 'Context'",
     "output_type": "error",
     "traceback": [
      "\u001b[0;31m---------------------------------------------------------------------------\u001b[0m",
      "\u001b[0;31mAttributeError\u001b[0m                            Traceback (most recent call last)",
      "Cell \u001b[0;32mIn[13], line 5\u001b[0m\n\u001b[1;32m      3\u001b[0m \u001b[39mif\u001b[39;00m p\u001b[39m.\u001b[39mRepresentation:\n\u001b[1;32m      4\u001b[0m     shape \u001b[39m=\u001b[39m ifcopenshell\u001b[39m.\u001b[39mgeom\u001b[39m.\u001b[39mcreate_shape(settings,p)\u001b[39m.\u001b[39mgeometry\n\u001b[0;32m----> 5\u001b[0m     display_shape \u001b[39m=\u001b[39m ifcopenshell\u001b[39m.\u001b[39;49mgeom\u001b[39m.\u001b[39;49mutils\u001b[39m.\u001b[39;49mdisplay_shape(shape)\n",
      "File \u001b[0;32m~/miniforge3/envs/aik/lib/python3.11/site-packages/ifcopenshell/geom/occ_utils.py:201\u001b[0m, in \u001b[0;36mdisplay_shape\u001b[0;34m(shape, clr, viewer_handle)\u001b[0m\n\u001b[1;32m    198\u001b[0m     ais\u001b[39m.\u001b[39mSetColor(clr)\n\u001b[1;32m    200\u001b[0m ais_handle \u001b[39m=\u001b[39m ais\u001b[39m.\u001b[39mGetHandle() \u001b[39mif\u001b[39;00m USE_OCCT_HANDLE \u001b[39melse\u001b[39;00m ais\n\u001b[0;32m--> 201\u001b[0m viewer_handle\u001b[39m.\u001b[39;49mContext\u001b[39m.\u001b[39mDisplay(ais_handle, \u001b[39mFalse\u001b[39;00m)\n\u001b[1;32m    203\u001b[0m \u001b[39mreturn\u001b[39;00m ais_handle\n",
      "\u001b[0;31mAttributeError\u001b[0m: 'NoneType' object has no attribute 'Context'"
     ]
    }
   ],
   "source": [
    "for p in products:\n",
    "    if p.is_a('IfcOpeningElement'): continue\n",
    "    if p.Representation:\n",
    "        shape = ifcopenshell.geom.create_shape(settings,p).geometry\n",
    "        display_shape = ifcopenshell.geom.utils.display_shape(shape)"
   ]
  },
  {
   "cell_type": "code",
   "execution_count": null,
   "metadata": {},
   "outputs": [],
   "source": []
  }
 ],
 "metadata": {
  "kernelspec": {
   "display_name": "Python 3",
   "language": "python",
   "name": "python3"
  },
  "language_info": {
   "codemirror_mode": {
    "name": "ipython",
    "version": 3
   },
   "file_extension": ".py",
   "mimetype": "text/x-python",
   "name": "python",
   "nbconvert_exporter": "python",
   "pygments_lexer": "ipython3",
   "version": "3.11.0"
  },
  "orig_nbformat": 4
 },
 "nbformat": 4,
 "nbformat_minor": 2
}
