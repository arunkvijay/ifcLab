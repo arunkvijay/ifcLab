{
 "cells": [
  {
   "cell_type": "code",
   "execution_count": 24,
   "id": "e130d01c-66b7-4262-9037-9882a8ecc4b4",
   "metadata": {},
   "outputs": [],
   "source": [
    "from OCC.Core.gp import gp_Pnt, gp_Vec\n",
    "from OCC.Core.BRepBuilderAPI import BRepBuilderAPI_Transform, BRepBuilderAPI_MakeVertex, BRepBuilderAPI_MakeEdge, BRepBuilderAPI_MakeWire\n",
    "from OCC.Core.BRepPrimAPI import BRepPrimAPI_MakeBox, BRepPrimAPI_MakePrism\n",
    "from OCC.Core.gp import gp_Ax2, gp_Pln, gp_Dir\n",
    "from OCC.Core.BRepAlgoAPI import BRepAlgoAPI_Cut\n",
    "from OCC.Core.TopoDS import TopoDS_Shape\n",
    "\n",
    "# Create the base shape (prism)\n",
    "base_shape = BRepPrimAPI_MakeBox(10, 10, 20).Shape()\n",
    "\n",
    "# Create the cutting plane\n",
    "plane_origin = gp_Pnt(5, 5, 20)  # Origin of the cutting plane\n",
    "plane_normal = gp_Dir(0, 0, -1)  # Normal vector of the cutting plane\n",
    "\n",
    "\n",
    "extrusion_vector = gp_Vec(0.,0.,-1.)\n"
   ]
  },
  {
   "cell_type": "code",
   "execution_count": 19,
   "id": "22b87a61-18b5-484b-8bf5-4f9d937bca7d",
   "metadata": {},
   "outputs": [],
   "source": [
    "v1 = BRepBuilderAPI_MakeVertex(gp_Pnt(0, 0, 0)).Vertex()\n",
    "v2 = BRepBuilderAPI_MakeVertex(gp_Pnt(10, 0, 0)).Vertex()\n",
    "v3 = BRepBuilderAPI_MakeVertex(gp_Pnt(10, 10, 0)).Vertex()\n",
    "v4 = BRepBuilderAPI_MakeVertex(gp_Pnt(0, 10, 0)).Vertex()"
   ]
  },
  {
   "cell_type": "code",
   "execution_count": 22,
   "id": "85e4d859-9f6c-4e4b-9d35-ffaefb822b2e",
   "metadata": {},
   "outputs": [],
   "source": [
    "edge1 = BRepBuilderAPI_MakeEdge(v1, v2).Edge()\n",
    "edge2 = BRepBuilderAPI_MakeEdge(v2, v3).Edge()\n",
    "edge3 = BRepBuilderAPI_MakeEdge(v3, v4).Edge()\n",
    "edge4 = BRepBuilderAPI_MakeEdge(v4, v1).Edge()"
   ]
  },
  {
   "cell_type": "code",
   "execution_count": 25,
   "id": "3efc53a6-c705-47b2-9142-451b0d09b9aa",
   "metadata": {},
   "outputs": [],
   "source": [
    "wire = BRepBuilderAPI_MakeWire(edge1, edge2, edge3, edge4).Wire()"
   ]
  },
  {
   "cell_type": "code",
   "execution_count": 14,
   "id": "cac2139b-90cd-402e-b472-936b882baf8f",
   "metadata": {},
   "outputs": [],
   "source": [
    "cutting_plane = gp_Pln(plane_origin, plane_normal)"
   ]
  },
  {
   "cell_type": "code",
   "execution_count": 26,
   "id": "70e01676-1587-4414-a934-b4d9ae53bc35",
   "metadata": {},
   "outputs": [],
   "source": [
    "prism = BRepPrimAPI_MakePrism(wire, extrusion_vector)"
   ]
  },
  {
   "cell_type": "code",
   "execution_count": 31,
   "id": "1a2b9707-ae17-4696-9b71-e3c32f1452cf",
   "metadata": {},
   "outputs": [],
   "source": [
    "prism_shape = prism.Shape()"
   ]
  },
  {
   "cell_type": "code",
   "execution_count": null,
   "id": "872b4181-a232-45d6-9e9b-129d934e6165",
   "metadata": {},
   "outputs": [
    {
     "name": "stdout",
     "output_type": "stream",
     "text": [
      "qt-pyside2 backend - Qt version 5.15.8\n",
      "####### 3D rendering pipe initialisation #####\n",
      "Display3d class initialization starting ...\n",
      "Aspect_DisplayConnection created.\n",
      "OpenGl_GraphicDriver created.\n",
      "V3d_Viewer created.\n",
      "AIS_InteractiveContext created.\n",
      "V3d_View created\n",
      "Xw_Window created.\n",
      "\u001b[33;1mTKOpenGl | Type: Other | ID: 0 | Severity: Medium | Message:\n",
      "  OpenGl_Window::CreateWindow: window Visual is incomplete: no stencil buffer\u001b[0m\n",
      "INFO:OCC.Display.qtDisplay:key: code 16777251 not mapped to any function\n"
     ]
    }
   ],
   "source": [
    "from OCC.Display.SimpleGui import init_display\n",
    "display, start_display, add_menu, add_function_to_menu = init_display()\n",
    "display.DisplayShape(prism_shape)\n",
    "display.FitAll()\n",
    "start_display()\n"
   ]
  },
  {
   "cell_type": "code",
   "execution_count": 16,
   "id": "801576ec-9481-4a95-974f-aea8bfb9fc75",
   "metadata": {},
   "outputs": [
    {
     "ename": "TypeError",
     "evalue": "Wrong number or type of arguments for overloaded function 'new_BRepPrimAPI_MakePrism'.\n  Possible C/C++ prototypes are:\n    BRepPrimAPI_MakePrism::BRepPrimAPI_MakePrism(TopoDS_Shape const &,gp_Vec const &,Standard_Boolean const,Standard_Boolean const)\n    BRepPrimAPI_MakePrism::BRepPrimAPI_MakePrism(TopoDS_Shape const &,gp_Dir const &,Standard_Boolean const,Standard_Boolean const,Standard_Boolean const)\n",
     "output_type": "error",
     "traceback": [
      "\u001b[0;31m---------------------------------------------------------------------------\u001b[0m",
      "\u001b[0;31mTypeError\u001b[0m                                 Traceback (most recent call last)",
      "Cell \u001b[0;32mIn[16], line 2\u001b[0m\n\u001b[1;32m      1\u001b[0m \u001b[38;5;66;03m# Perform the cut operation\u001b[39;00m\n\u001b[0;32m----> 2\u001b[0m cut_tool \u001b[38;5;241m=\u001b[39m \u001b[43mBRepPrimAPI_MakePrism\u001b[49m\u001b[43m(\u001b[49m\u001b[43mcutting_plane\u001b[49m\u001b[43m,\u001b[49m\u001b[43m \u001b[49m\u001b[38;5;241;43m20\u001b[39;49m\u001b[43m,\u001b[49m\u001b[43m \u001b[49m\u001b[38;5;28;43;01mTrue\u001b[39;49;00m\u001b[43m)\u001b[49m\n\u001b[1;32m      3\u001b[0m cut_shape \u001b[38;5;241m=\u001b[39m cut_tool\u001b[38;5;241m.\u001b[39mShape()\n\u001b[1;32m      5\u001b[0m \u001b[38;5;66;03m# Cut the base shape with the cutting shape\u001b[39;00m\n",
      "File \u001b[0;32m~/miniforge3/envs/aik/lib/python3.11/site-packages/OCC/Core/BRepPrimAPI.py:854\u001b[0m, in \u001b[0;36mBRepPrimAPI_MakePrism.__init__\u001b[0;34m(self, *args)\u001b[0m\n\u001b[1;32m    820\u001b[0m \u001b[38;5;28;01mdef\u001b[39;00m \u001b[38;5;21m__init__\u001b[39m(\u001b[38;5;28mself\u001b[39m, \u001b[38;5;241m*\u001b[39margs):\n\u001b[1;32m    821\u001b[0m \u001b[38;5;250m    \u001b[39m\u001b[38;5;124mr\u001b[39m\u001b[38;5;124;03m\"\"\"\u001b[39;00m\n\u001b[1;32m    822\u001b[0m \u001b[38;5;124;03m    Builds the prism of base s and vector v. if c is true, s is copied. if canonize is true then generated surfaces are attempted to be canonized in simple types.\u001b[39;00m\n\u001b[1;32m    823\u001b[0m \n\u001b[0;32m   (...)\u001b[0m\n\u001b[1;32m    852\u001b[0m \n\u001b[1;32m    853\u001b[0m \u001b[38;5;124;03m    \"\"\"\u001b[39;00m\n\u001b[0;32m--> 854\u001b[0m     _BRepPrimAPI\u001b[38;5;241m.\u001b[39mBRepPrimAPI_MakePrism_swiginit(\u001b[38;5;28mself\u001b[39m, \u001b[43m_BRepPrimAPI\u001b[49m\u001b[38;5;241;43m.\u001b[39;49m\u001b[43mnew_BRepPrimAPI_MakePrism\u001b[49m\u001b[43m(\u001b[49m\u001b[38;5;241;43m*\u001b[39;49m\u001b[43margs\u001b[49m\u001b[43m)\u001b[49m)\n",
      "\u001b[0;31mTypeError\u001b[0m: Wrong number or type of arguments for overloaded function 'new_BRepPrimAPI_MakePrism'.\n  Possible C/C++ prototypes are:\n    BRepPrimAPI_MakePrism::BRepPrimAPI_MakePrism(TopoDS_Shape const &,gp_Vec const &,Standard_Boolean const,Standard_Boolean const)\n    BRepPrimAPI_MakePrism::BRepPrimAPI_MakePrism(TopoDS_Shape const &,gp_Dir const &,Standard_Boolean const,Standard_Boolean const,Standard_Boolean const)\n"
     ]
    }
   ],
   "source": [
    "# Perform the cut operation\n",
    "cut_tool = BRepPrimAPI_MakePrism(cutting_plane, 20, True)\n",
    "cut_shape = cut_tool.Shape()\n",
    "\n",
    "# Cut the base shape with the cutting shape\n",
    "cut_result = BRepAlgoAPI_Cut(base_shape, cut_shape).Shape()\n",
    "\n",
    "# Print or visualize the resulting shape\n",
    "print(cut_result)"
   ]
  },
  {
   "cell_type": "code",
   "execution_count": null,
   "id": "0fe0eddc-babe-4653-8dd4-2bf5462d6ac5",
   "metadata": {},
   "outputs": [],
   "source": []
  }
 ],
 "metadata": {
  "kernelspec": {
   "display_name": "Python 3 (ipykernel)",
   "language": "python",
   "name": "python3"
  },
  "language_info": {
   "codemirror_mode": {
    "name": "ipython",
    "version": 3
   },
   "file_extension": ".py",
   "mimetype": "text/x-python",
   "name": "python",
   "nbconvert_exporter": "python",
   "pygments_lexer": "ipython3",
   "version": "3.11.0"
  }
 },
 "nbformat": 4,
 "nbformat_minor": 5
}
