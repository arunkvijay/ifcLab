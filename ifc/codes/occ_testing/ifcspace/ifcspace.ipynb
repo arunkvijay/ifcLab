{
 "cells": [
  {
   "cell_type": "code",
   "execution_count": 1,
   "id": "939d5749-df20-4acd-bc10-eb3bb907be6b",
   "metadata": {},
   "outputs": [],
   "source": [
    "import ifcopenshell\n",
    "import ifcopenshell.geom"
   ]
  },
  {
   "cell_type": "code",
   "execution_count": 2,
   "id": "d584768a-8891-4d51-92fd-6cb13bef3127",
   "metadata": {},
   "outputs": [],
   "source": [
    "import OCC.Core.gp\n",
    "import OCC.Core.Geom\n",
    "\n",
    "import OCC.Core.Bnd\n",
    "import OCC.Core.BRepBndLib\n",
    "\n",
    "import OCC.Core.BRep\n",
    "import OCC.Core.BRepPrimAPI\n",
    "import OCC.Core.BRepAlgoAPI\n",
    "import OCC.Core.BRepBuilderAPI\n",
    "\n",
    "import OCC.Core.GProp\n",
    "import OCC.Core.BRepGProp\n",
    "\n",
    "import OCC.Core.TopoDS\n",
    "import OCC.Core.TopExp\n",
    "import OCC.Core.TopAbs"
   ]
  },
  {
   "cell_type": "code",
   "execution_count": 3,
   "id": "1b3fb4cd-ada6-4cc5-beea-ec59af2611ff",
   "metadata": {},
   "outputs": [],
   "source": [
    "settings = ifcopenshell.geom.settings()\n",
    "settings.set(settings.USE_PYTHON_OPENCASCADE, True)"
   ]
  },
  {
   "cell_type": "code",
   "execution_count": 18,
   "id": "0c8814f3-7f7c-4685-bfa3-fcc3b13021c1",
   "metadata": {},
   "outputs": [
    {
     "name": "stdout",
     "output_type": "stream",
     "text": [
      "INFO:OCC.Display.backend:The qt-pyside2 backend is already loaded...``load_backend`` can only be called once per session\n",
      "qt-pyside2 backend - Qt version 5.15.8\n",
      "Display3d class successfully initialized.\n",
      "#########################################\n",
      "OpenGl information:\n",
      "  GLvendor: NVIDIA Corporation\n",
      "  GLdevice: NVIDIA GeForce RTX 4060 Ti/PCIe/SSE2\n",
      "  GLversion: 4.6.0 NVIDIA 525.125.06\n",
      "  GLSLversion: 4.60 NVIDIA\n",
      "  Max texture size: 32768\n",
      "  Max FBO dump size: 32768x32768\n",
      "  Max combined texture units: 192\n",
      "  Max MSAA samples: 32\n",
      "  Viewport: 1023x767\n",
      "  Window buffer: RGB8 ALPHA0 DEPTH24 STENCIL0\n",
      "  ResolutionRatio: 1\n",
      "  FBO buffer: GL_SRGB8_ALPHA8 GL_DEPTH24_STENCIL8\n",
      "####### 3D rendering pipe initialisation #####\n",
      "Display3d class initialization starting ...\n",
      "Aspect_DisplayConnection created.\n",
      "OpenGl_GraphicDriver created.\n",
      "V3d_Viewer created.\n",
      "AIS_InteractiveContext created.\n",
      "V3d_View created\n",
      "Xw_Window created.\n",
      "\u001b[33;1mTKOpenGl | Type: Other | ID: 0 | Severity: Medium | Message:\n",
      "  OpenGl_Window::CreateWindow: window Visual is incomplete: no stencil buffer\u001b[0m\n"
     ]
    }
   ],
   "source": [
    "occ_display = ifcopenshell.geom.utils.initialize_display()"
   ]
  },
  {
   "cell_type": "code",
   "execution_count": 5,
   "id": "43b9771c-2563-4eac-9a7c-a5faa2b32e25",
   "metadata": {},
   "outputs": [],
   "source": [
    "path = './ifcspace.ifc'"
   ]
  },
  {
   "cell_type": "code",
   "execution_count": 6,
   "id": "8943421e-44ce-4d93-992d-cb2068ad1602",
   "metadata": {},
   "outputs": [],
   "source": [
    "f = ifcopenshell.open(path)"
   ]
  },
  {
   "cell_type": "code",
   "execution_count": 7,
   "id": "0e06a9bc-2dcc-42ce-bd8a-82baca595e44",
   "metadata": {},
   "outputs": [],
   "source": [
    "walls = f.by_type('IfcWall')\n",
    "wall_shapes = []\n",
    "cols = f.by_type('IfcColumn')\n",
    "col_shapes = []\n",
    "beams = f.by_type('IfcBeam')\n",
    "beam_shapes = []\n",
    "bbox = OCC.Core.Bnd.Bnd_Box()"
   ]
  },
  {
   "cell_type": "code",
   "execution_count": 17,
   "id": "a89d9e3f-fc21-46e7-9f2a-c467c7a88bf5",
   "metadata": {},
   "outputs": [],
   "source": [
    "for w in walls:\n",
    "    shape = ifcopenshell.geom.create_shape(settings, w).geometry\n",
    "    wall_shapes.append((w, shape))\n",
    "    OCC.Core.BRepBndLib.brepbndlib_Add(shape, bbox)\n",
    "    #ifcopenshell.geom.utils.display_shape(shape)"
   ]
  },
  {
   "cell_type": "code",
   "execution_count": 20,
   "id": "daded00d-6833-4c3d-818a-ed9d25ee739e",
   "metadata": {},
   "outputs": [],
   "source": [
    "bbox_center = ifcopenshell.geom.utils.get_bounding_box_center(bbox)\n",
    "occ_display.DisplayMessage(bbox_center, \"Center\", update=True)\n",
    "\n",
    "half_spaces = []\n",
    "\n",
    "for wall, shape in wall_shapes:\n",
    "    exp = OCC.Core.TopExp.TopExp_Explorer(shape, OCC.Core.TopAbs.TopAbs_FACE)\n",
    "    while exp.More():\n",
    "        face = OCC.Core.TopoDS.topods.Face(exp.Current())\n",
    "        exp.Next()\n",
    "        surf = OCC.Core.BRep.BRep_Tool.Surface(face)\n",
    "        assert surf.DynamicType().Name() == 'Geom_Plane'\n",
    "\n",
    "        plane = OCC.Core.Geom.Handle_Geom_Plane_DownCast(surf)\n",
    "\n",
    "        if plane.Axis().Direction().Z() == 0:\n",
    "            face_bbox = OCC.Core.Bnd.Bnd_Box()\n",
    "            OCC.Core.BRepBndLib.brepbndlib_Add(face, face_bbox)\n",
    "            \n",
    "            face_center = ifcopenshell.geom.utils.get_bounding_box_center(face_bbox).XYZ()\n",
    "            face_normal = plane.Axis().Direction().XYZ()\n",
    "            face_towards_center = bbox_center.XYZ() - face_center\n",
    "            face_towards_center.Normalize()\n",
    "\n",
    "            dot = face_towards_center.Dot(face_normal)\n",
    "            if dot < -0.8:\n",
    "                ifcopenshell.geom.utils.display_shape(face)\n",
    "                face_plane = plane.Pln()\n",
    "                new_face = OCC.Core.BRepBuilderAPI.BRepBuilderAPI_MakeFace(face_plane).Face()\n",
    "                half_space = OCC.Core.BRepPrimAPI.BRepPrimAPI_MakeHalfSpace(new_face, bbox_center).Solid()\n",
    "                half_spaces.append(half_space)"
   ]
  },
  {
   "cell_type": "code",
   "execution_count": 21,
   "id": "c3e1310e-1690-4cc0-bbe6-7dbc3ab301b5",
   "metadata": {},
   "outputs": [],
   "source": [
    "common_shape = OCC.Core.BRepPrimAPI.BRepPrimAPI_MakeBox(OCC.Core.gp.gp_Pnt(-0.1, -0.1, -0.6), OCC.Core.gp.gp_Pnt(9,9,5)).Solid()\n",
    "com_shape = ifcopenshell.geom.utils.display_shape(common_shape)\n",
    "ifcopenshell.geom.utils.set_shape_transparency(ais=com_shape, t=0.9)\n",
    "for half_sp in half_spaces:\n",
    "    common_shape = OCC.Core.BRepAlgoAPI.BRepAlgoAPI_Common(common_shape, half_sp).Shape()\n",
    "\n",
    "box_shape = ifcopenshell.geom.utils.display_shape(common_shape)\n",
    "ifcopenshell.geom.utils.set_shape_transparency(ais=box_shape, t=0.8)"
   ]
  },
  {
   "cell_type": "code",
   "execution_count": 22,
   "id": "0ce1bca0-9253-4daa-93f7-dc1daa6d952c",
   "metadata": {},
   "outputs": [
    {
     "name": "stdout",
     "output_type": "stream",
     "text": [
      "INFO:OCC.Display.qtDisplay:key: code 16777251 not mapped to any function\n"
     ]
    }
   ],
   "source": [
    "ifcopenshell.geom.utils.main_loop()"
   ]
  },
  {
   "cell_type": "code",
   "execution_count": null,
   "id": "cd8e2702-f62e-455f-94f7-460c7c418839",
   "metadata": {},
   "outputs": [],
   "source": [
    "    "
   ]
  }
 ],
 "metadata": {
  "kernelspec": {
   "display_name": "Python 3 (ipykernel)",
   "language": "python",
   "name": "python3"
  },
  "language_info": {
   "codemirror_mode": {
    "name": "ipython",
    "version": 3
   },
   "file_extension": ".py",
   "mimetype": "text/x-python",
   "name": "python",
   "nbconvert_exporter": "python",
   "pygments_lexer": "ipython3",
   "version": "3.11.0"
  }
 },
 "nbformat": 4,
 "nbformat_minor": 5
}
