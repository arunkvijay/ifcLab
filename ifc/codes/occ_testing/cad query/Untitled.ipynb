{
 "cells": [
  {
   "cell_type": "code",
   "execution_count": 1,
   "id": "b93f2ba1-77d5-4d1b-879d-ae7b164c5a66",
   "metadata": {},
   "outputs": [],
   "source": [
    "import cadquery"
   ]
  },
  {
   "cell_type": "code",
   "execution_count": 2,
   "id": "4f510782-cff0-4a43-b0c3-56f700b54b3d",
   "metadata": {},
   "outputs": [
    {
     "data": {
      "text/plain": [
       "'<?xml version=\"1.0\" encoding=\"UTF-8\" standalone=\"no\"?>\\n<svg\\n   xmlns:svg=\"http://www.w3.org/2000/svg\"\\n   xmlns=\"http://www.w3.org/2000/svg\"\\n   width=\"800.0\"\\n   height=\"240.0\"\\n\\n>\\n    <g transform=\"scale(69.20188809083672, -69.20188809083672)   translate(3.857549370751361,-1.5895520055119063)\" stroke-width=\"0.014450472777380966\"  fill=\"none\">\\n       <!-- hidden lines -->\\n       <g  stroke=\"rgb(160,160,160)\" fill=\"none\" stroke-dasharray=\"0.014450472777380966,0.014450472777380966\" >\\n\\t\\t\\t<path d=\"M-0.02359645890915052,-0.6576855014574596 L0.967454815275168,-1.233378380717305 \" />\\n\\t\\t\\t<path d=\"M-0.02359645890915052,-0.6576855014574596 L-0.02359645890915052,1.300542549964287 \" />\\n\\t\\t\\t<path d=\"M-0.967454815275168,-0.7248496707044416 L-0.02359645890915052,-0.6576855014574596 \" />\\n\\n       </g>\\n\\n       <!-- solid lines -->\\n       <g  stroke=\"rgb(0,0,0)\" fill=\"none\">\\n\\t\\t\\t<path d=\"M-0.967454815275168,-0.7248496707044416 L0.02359645890915052,-1.300542549964287 \" />\\n\\t\\t\\t<path d=\"M0.02359645890915052,-1.300542549964287 L0.02359645890915052,0.6576855014574596 \" />\\n\\t\\t\\t<path d=\"M-0.967454815275168,1.233378380717305 L0.02359645890915052,0.6576855014574596 \" />\\n\\t\\t\\t<path d=\"M-0.967454815275168,-0.7248496707044416 L-0.967454815275168,1.233378380717305 \" />\\n\\t\\t\\t<path d=\"M0.967454815275168,-1.233378380717305 L0.967454815275168,0.7248496707044416 \" />\\n\\t\\t\\t<path d=\"M-0.02359645890915052,1.300542549964287 L0.967454815275168,0.7248496707044416 \" />\\n\\t\\t\\t<path d=\"M0.02359645890915052,-1.300542549964287 L0.967454815275168,-1.233378380717305 \" />\\n\\t\\t\\t<path d=\"M-0.967454815275168,1.233378380717305 L-0.02359645890915052,1.300542549964287 \" />\\n\\t\\t\\t<path d=\"M0.02359645890915052,0.6576855014574596 L0.967454815275168,0.7248496707044416 \" />\\n\\n       </g>\\n    </g>\\n    <g transform=\"translate(20,210.0)\" stroke=\"rgb(0,0,255)\">\\n        <line x1=\"30\" y1=\"-30\" x2=\"75\" y2=\"-33\" stroke-width=\"3\" stroke=\"#000000\" />\\n         <text x=\"80\" y=\"-30\" style=\"stroke:#000000\">X </text>\\n\\n        <line x1=\"30\" y1=\"-30\" x2=\"30\" y2=\"-75\" stroke-width=\"3\" stroke=\"#000000\" />\\n         <text x=\"25\" y=\"-85\" style=\"stroke:#000000\">Y </text>\\n\\n        <line x1=\"30\" y1=\"-30\" x2=\"58\" y2=\"-15\" stroke-width=\"3\" stroke=\"#000000\" />\\n         <text x=\"65\" y=\"-5\" style=\"stroke:#000000\">Z </text>\\n        <!--\\n            <line x1=\"0\" y1=\"0\" x2=\"69.20188809083672\" y2=\"0\" stroke-width=\"3\" />\\n            <text x=\"0\" y=\"20\" style=\"stroke:#000000\">1  in </text>\\n        -->\\n    </g>\\n</svg>\\n'"
      ]
     },
     "execution_count": 2,
     "metadata": {},
     "output_type": "execute_result"
    }
   ],
   "source": [
    "cadquery.Workplane('XY').box(1,2,3).toSvg()"
   ]
  },
  {
   "cell_type": "code",
   "execution_count": null,
   "id": "1eacc808-625d-4cc6-894f-52897a1bb367",
   "metadata": {},
   "outputs": [],
   "source": []
  }
 ],
 "metadata": {
  "kernelspec": {
   "display_name": "Python 3 (ipykernel)",
   "language": "python",
   "name": "python3"
  },
  "language_info": {
   "codemirror_mode": {
    "name": "ipython",
    "version": 3
   },
   "file_extension": ".py",
   "mimetype": "text/x-python",
   "name": "python",
   "nbconvert_exporter": "python",
   "pygments_lexer": "ipython3",
   "version": "3.11.0"
  }
 },
 "nbformat": 4,
 "nbformat_minor": 5
}
