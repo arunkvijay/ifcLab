{
 "cells": [
  {
   "cell_type": "code",
   "execution_count": 1,
   "metadata": {},
   "outputs": [],
   "source": [
    "#path = '/home/arun/Downloads/IfcOpenHouse.ifc'\n",
    "path = '/home/arun/Downloads/IfcOpenHouse_IFC4.ifc'"
   ]
  },
  {
   "cell_type": "code",
   "execution_count": 2,
   "metadata": {
    "tags": []
   },
   "outputs": [],
   "source": [
    "import ifcopenshell\n",
    "import ifcopenshell.geom\n",
    "import ifcopenshell.util\n",
    "import ifcopenshell.util.representation\n",
    "import ifcopenshell.util.element"
   ]
  },
  {
   "cell_type": "code",
   "execution_count": 3,
   "metadata": {
    "tags": []
   },
   "outputs": [],
   "source": [
    "import OCC.Core.gp\n",
    "import OCC.Core.Geom\n",
    "\n",
    "import OCC.Core.Bnd\n",
    "import OCC.Core.BRepBndLib\n",
    "\n",
    "import OCC.Core.BRep\n",
    "import OCC.Core.BRepPrimAPI\n",
    "import OCC.Core.BRepAlgoAPI\n",
    "import OCC.Core.BRepBuilderAPI\n",
    "\n",
    "import OCC.Core.GProp\n",
    "import OCC.Core.BRepGProp\n",
    "\n",
    "import OCC.Core.TopoDS\n",
    "import OCC.Core.TopExp\n",
    "import OCC.Core.TopAbs"
   ]
  },
  {
   "cell_type": "code",
   "execution_count": 4,
   "metadata": {
    "tags": []
   },
   "outputs": [],
   "source": [
    "settings = ifcopenshell.geom.settings()\n",
    "settings.set(settings.USE_PYTHON_OPENCASCADE, True)"
   ]
  },
  {
   "cell_type": "code",
   "execution_count": 5,
   "metadata": {
    "tags": []
   },
   "outputs": [
    {
     "name": "stdout",
     "output_type": "stream",
     "text": [
      "qt-pyside2 backend - Qt version 5.15.8\n",
      "####### 3D rendering pipe initialisation #####\n",
      "Display3d class initialization starting ...\n",
      "Aspect_DisplayConnection created.\n",
      "OpenGl_GraphicDriver created.\n",
      "V3d_Viewer created.\n",
      "AIS_InteractiveContext created.\n",
      "V3d_View created\n",
      "Xw_Window created.\n",
      "\u001b[33;1mTKOpenGl | Type: Other | ID: 0 | Severity: Medium | Message:\n",
      "  OpenGl_Window::CreateWindow: window Visual is incomplete: no stencil buffer\u001b[0m\n"
     ]
    }
   ],
   "source": [
    "occ_display = ifcopenshell.geom.utils.initialize_display()"
   ]
  },
  {
   "cell_type": "code",
   "execution_count": 6,
   "metadata": {},
   "outputs": [],
   "source": [
    "f = ifcopenshell.open(path)\n",
    "products = f.by_type('IfcProduct')"
   ]
  },
  {
   "cell_type": "code",
   "execution_count": 7,
   "metadata": {},
   "outputs": [],
   "source": [
    "for p in products:\n",
    "    if p.is_a('IfcOpeningElement'): continue\n",
    "    if p.Representation:\n",
    "        shape = ifcopenshell.geom.create_shape(settings, p).geometry\n",
    "        display_shape = ifcopenshell.geom.utils.display_shape(shape)\n",
    "        if p.is_a('IfcPlate'):\n",
    "            ifcopenshell.geom.utils.set_shape_transparency(ais=display_shape, t=0.8)"
   ]
  },
  {
   "cell_type": "code",
   "execution_count": 8,
   "metadata": {},
   "outputs": [],
   "source": [
    "    #input()\n",
    "occ_display.EraseAll()"
   ]
  },
  {
   "cell_type": "code",
   "execution_count": 9,
   "metadata": {},
   "outputs": [],
   "source": [
    "walls = f.by_type('IfcWall')\n",
    "wall_shapes = []\n",
    "bbox = OCC.Core.Bnd.Bnd_Box()"
   ]
  },
  {
   "cell_type": "code",
   "execution_count": 10,
   "metadata": {},
   "outputs": [
    {
     "name": "stdout",
     "output_type": "stream",
     "text": [
      "Bounding Box Center: 0.0, 2.5000000000000004, 2.7500000000000013\n"
     ]
    },
    {
     "data": {
      "text/plain": [
       "<class 'Graphic3d_Structure'>"
      ]
     },
     "execution_count": 10,
     "metadata": {},
     "output_type": "execute_result"
    }
   ],
   "source": [
    "for wall in walls:\n",
    "    shape = ifcopenshell.geom.create_shape(settings, wall).geometry\n",
    "    wall_shapes.append((wall, shape))\n",
    "    OCC.Core.BRepBndLib.brepbndlib_Add(shape, bbox)\n",
    "    ifcopenshell.geom.utils.display_shape(shape)\n",
    "\n",
    "bbox_center = ifcopenshell.geom.utils.get_bounding_box_center(bbox)\n",
    "print(f\"Bounding Box Center: {bbox_center.X()}, {bbox_center.Y()}, {bbox_center.Z()}\")\n",
    "occ_display.DisplayMessage(bbox_center, \"Center\", update=True)"
   ]
  },
  {
   "cell_type": "code",
   "execution_count": 11,
   "metadata": {},
   "outputs": [],
   "source": [
    "occ_display.EraseAll()"
   ]
  },
  {
   "cell_type": "code",
   "execution_count": 12,
   "metadata": {},
   "outputs": [
    {
     "data": {
      "text/plain": [
       "<class 'Graphic3d_Structure'>"
      ]
     },
     "execution_count": 12,
     "metadata": {},
     "output_type": "execute_result"
    }
   ],
   "source": [
    "occ_display.DisplayMessage(bbox_center, 'Center', update=True)"
   ]
  },
  {
   "cell_type": "code",
   "execution_count": 13,
   "metadata": {},
   "outputs": [],
   "source": [
    "half_spaces = []\n",
    "for wall, shape in wall_shapes:\n",
    "    exp = OCC.Core.TopExp.TopExp_Explorer(shape, OCC.Core.TopAbs.TopAbs_FACE)\n",
    "    while exp.More():\n",
    "        face = OCC.Core.TopoDS.topods.Face(exp.Current())\n",
    "        exp.Next()\n",
    "        surf = OCC.Core.BRep.BRep_Tool.Surface(face)\n",
    "        assert surf.DynamicType().Name() == 'Geom_Plane'\n",
    "\n",
    "        plane = OCC.Core.Geom.Handle_Geom_Plane_DownCast(surf)\n",
    "\n",
    "        if plane.Axis().Direction().Z() == 0:\n",
    "            face_bbox = OCC.Core.Bnd.Bnd_Box()\n",
    "            OCC.Core.BRepBndLib.brepbndlib_Add(face, face_bbox)\n",
    "            face_center = ifcopenshell.geom.utils.get_bounding_box_center(face_bbox).XYZ()\n",
    "\n",
    "            face_normal = plane.Axis().Direction().XYZ()\n",
    "            face_towards_center = bbox_center.XYZ() - face_center\n",
    "            face_towards_center.Normalize()\n",
    "\n",
    "            dot = face_towards_center.Dot(face_normal)\n",
    "\n",
    "            if dot < -0.8:\n",
    "                ifcopenshell.geom.utils.display_shape(face)\n",
    "                face_plane = plane.Pln()\n",
    "                new_face = OCC.Core.BRepBuilderAPI.BRepBuilderAPI_MakeFace(face_plane).Face()\n",
    "                halfspace = OCC.Core.BRepPrimAPI.BRepPrimAPI_MakeHalfSpace(new_face, bbox_center).Solid()\n",
    "                half_spaces.append(halfspace)"
   ]
  },
  {
   "cell_type": "code",
   "execution_count": 14,
   "metadata": {},
   "outputs": [],
   "source": [
    "occ_display.EraseAll()"
   ]
  },
  {
   "cell_type": "code",
   "execution_count": 15,
   "metadata": {},
   "outputs": [],
   "source": [
    "roofs = f.by_type('IfcRoof')\n",
    "for roof in ifcopenshell.util.element.get_decomposition(roofs[0]):\n",
    "    shape = ifcopenshell.geom.create_shape(settings, roof).geometry\n",
    "    exp = OCC.Core.TopExp.TopExp_Explorer(shape, OCC.Core.TopAbs.TopAbs_FACE)\n",
    "    while exp.More():\n",
    "        face = OCC.Core.TopoDS.topods.Face(exp.Current())\n",
    "        exp.Next()\n",
    "        surf = OCC.Core.BRep.BRep_Tool.Surface(face)\n",
    "        assert surf.DynamicType().Name() == 'Geom_Plane'\n",
    "        plane = OCC.Core.Geom.Handle_Geom_Plane_DownCast(surf)\n",
    "        if plane.Axis().Direction().Z() > 0.7:\n",
    "            face_plane = plane.Pln()\n",
    "            new_face = OCC.Core.BRepBuilderAPI.BRepBuilderAPI_MakeFace(face_plane).Face()\n",
    "            halfspace = OCC.Core.BRepPrimAPI.BRepPrimAPI_MakeHalfSpace(new_face, bbox_center).Solid()\n",
    "            half_spaces.append(halfspace)"
   ]
  },
  {
   "cell_type": "code",
   "execution_count": 16,
   "metadata": {},
   "outputs": [],
   "source": [
    "common_shape = OCC.Core.BRepPrimAPI.BRepPrimAPI_MakeBox(OCC.Core.gp.gp_Pnt(-10,-10,0), OCC.Core.gp.gp_Pnt(10,10,10)).Solid()"
   ]
  },
  {
   "cell_type": "code",
   "execution_count": 17,
   "metadata": {},
   "outputs": [],
   "source": [
    "for halfspace in half_spaces:\n",
    "    common_shape = OCC.Core.BRepAlgoAPI.BRepAlgoAPI_Common(common_shape, halfspace).Shape()"
   ]
  },
  {
   "cell_type": "code",
   "execution_count": 18,
   "metadata": {},
   "outputs": [
    {
     "data": {
      "text/plain": [
       "<class 'AIS_Shape'>"
      ]
     },
     "execution_count": 18,
     "metadata": {},
     "output_type": "execute_result"
    }
   ],
   "source": [
    "ifcopenshell.geom.utils.display_shape(common_shape)"
   ]
  },
  {
   "cell_type": "code",
   "execution_count": 19,
   "metadata": {},
   "outputs": [
    {
     "name": "stdout",
     "output_type": "stream",
     "text": [
      "Space Volume: 10.648801737362337\n"
     ]
    }
   ],
   "source": [
    "props = OCC.Core.GProp.GProp_GProps()\n",
    "OCC.Core.BRepGProp.brepgprop_VolumeProperties(shape, props)\n",
    "print(f\"Space Volume: {props.Mass()}\")"
   ]
  },
  {
   "cell_type": "code",
   "execution_count": 20,
   "metadata": {},
   "outputs": [
    {
     "name": "stdout",
     "output_type": "stream",
     "text": [
      "INFO:OCC.Display.qtDisplay:key: code 16777251 not mapped to any function\n",
      "INFO:OCC.Display.qtDisplay:key: code 16777251 not mapped to any function\n",
      "INFO:OCC.Display.qtDisplay:key: code 16777251 not mapped to any function\n",
      "INFO:OCC.Display.qtDisplay:key: code 16777251 not mapped to any function\n"
     ]
    }
   ],
   "source": [
    "ifcopenshell.geom.utils.main_loop()"
   ]
  },
  {
   "cell_type": "code",
   "execution_count": null,
   "metadata": {},
   "outputs": [],
   "source": []
  }
 ],
 "metadata": {
  "kernelspec": {
   "display_name": "Python 3 (ipykernel)",
   "language": "python",
   "name": "python3"
  },
  "language_info": {
   "codemirror_mode": {
    "name": "ipython",
    "version": 3
   },
   "file_extension": ".py",
   "mimetype": "text/x-python",
   "name": "python",
   "nbconvert_exporter": "python",
   "pygments_lexer": "ipython3",
   "version": "3.11.0"
  }
 },
 "nbformat": 4,
 "nbformat_minor": 4
}
