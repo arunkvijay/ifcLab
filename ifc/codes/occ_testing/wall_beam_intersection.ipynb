{
 "cells": [
  {
   "cell_type": "code",
   "execution_count": 1,
   "metadata": {},
   "outputs": [],
   "source": [
    "import ifcopenshell\n",
    "import ifcopenshell.geom"
   ]
  },
  {
   "cell_type": "code",
   "execution_count": 2,
   "metadata": {},
   "outputs": [],
   "source": [
    "import OCC\n",
    "from OCC.Core.TopoDS import TopoDS_Shape\n",
    "from OCC.Core.BRepAlgoAPI import BRepAlgoAPI_Common\n",
    "from OCC.Display.WebGl import x3dom_renderer"
   ]
  },
  {
   "cell_type": "code",
   "execution_count": 3,
   "metadata": {},
   "outputs": [],
   "source": [
    "path = '/home/01.ifc'\n",
    "f = ifcopenshell.open(path)"
   ]
  },
  {
   "cell_type": "code",
   "execution_count": 4,
   "metadata": {},
   "outputs": [],
   "source": [
    "wall = f.by_type('IfcWall')[0]\n",
    "beam = f.by_type('IfcBeam')[0]"
   ]
  },
  {
   "cell_type": "code",
   "execution_count": 5,
   "metadata": {},
   "outputs": [],
   "source": [
    "settings = ifcopenshell.geom.settings()\n",
    "settings.set(settings.USE_PYTHON_OPENCASCADE, True)"
   ]
  },
  {
   "cell_type": "code",
   "execution_count": 6,
   "metadata": {},
   "outputs": [],
   "source": [
    "wall_shape = ifcopenshell.geom.create_shape(settings, wall).geometry\n",
    "beam_shape = ifcopenshell.geom.create_shape(settings, beam).geometry"
   ]
  },
  {
   "cell_type": "code",
   "execution_count": 8,
   "metadata": {},
   "outputs": [],
   "source": [
    "common = BRepAlgoAPI_Common(wall_shape, beam_shape)"
   ]
  },
  {
   "cell_type": "code",
   "execution_count": 9,
   "metadata": {},
   "outputs": [],
   "source": [
    "common.Build()"
   ]
  },
  {
   "cell_type": "code",
   "execution_count": 10,
   "metadata": {},
   "outputs": [],
   "source": [
    "intersection_shape = common.Shape()"
   ]
  },
  {
   "cell_type": "code",
   "execution_count": 11,
   "metadata": {},
   "outputs": [
    {
     "name": "stdout",
     "output_type": "stream",
     "text": [
      "## x3dom webgl renderer - render axes/planes : True - axes/plane zoom factor : 1\n"
     ]
    }
   ],
   "source": [
    "my_renderer = x3dom_renderer.X3DomRenderer()"
   ]
  },
  {
   "cell_type": "code",
   "execution_count": 12,
   "metadata": {},
   "outputs": [
    {
     "data": {
      "text/plain": [
       "({'shpe1cc2e04744b4a158ea1db32a3012355': [False,\n",
       "   (0.65, 0.65, 0.7),\n",
       "   (0.2, 0.2, 0.2),\n",
       "   0.9,\n",
       "   0.0,\n",
       "   (0, 0.0, 0.0),\n",
       "   2.0]},\n",
       " {})"
      ]
     },
     "execution_count": 12,
     "metadata": {},
     "output_type": "execute_result"
    }
   ],
   "source": [
    "my_renderer.DisplayShape(intersection_shape)"
   ]
  },
  {
   "cell_type": "code",
   "execution_count": 13,
   "metadata": {},
   "outputs": [
    {
     "name": "stdout",
     "output_type": "stream",
     "text": [
      "| meshing shapes... 100%\n",
      "## Serving /tmp/tmppeguop79 \n",
      "## using SimpleHTTPServer\n",
      "## Open your webbrowser at the URL: http://localhost:8080\n",
      "## CTRL-C to shutdown the server\n"
     ]
    },
    {
     "name": "stderr",
     "output_type": "stream",
     "text": [
      "127.0.0.1 - - [26/Sep/2023 07:08:47] \"GET / HTTP/1.1\" 200 -\n",
      "127.0.0.1 - - [26/Sep/2023 07:08:47] \"GET /shpe1cc2e04744b4a158ea1db32a3012355.x3d HTTP/1.1\" 200 -\n"
     ]
    },
    {
     "ename": "KeyboardInterrupt",
     "evalue": "",
     "output_type": "error",
     "traceback": [
      "\u001b[0;31m---------------------------------------------------------------------------\u001b[0m",
      "\u001b[0;31mKeyboardInterrupt\u001b[0m                         Traceback (most recent call last)",
      "Cell \u001b[0;32mIn[13], line 1\u001b[0m\n\u001b[0;32m----> 1\u001b[0m my_renderer\u001b[39m.\u001b[39;49mrender()\n",
      "File \u001b[0;32m~/miniforge3/envs/aik/lib/python3.11/site-packages/OCC/Display/WebGl/x3dom_renderer.py:499\u001b[0m, in \u001b[0;36mX3DomRenderer.render\u001b[0;34m(self, addr, server_port, open_webbrowser)\u001b[0m\n\u001b[1;32m    497\u001b[0m \u001b[39mself\u001b[39m\u001b[39m.\u001b[39mgenerate_html_file(\u001b[39mself\u001b[39m\u001b[39m.\u001b[39m_axes_plane, \u001b[39mself\u001b[39m\u001b[39m.\u001b[39m_axes_plane_zoom_factor)\n\u001b[1;32m    498\u001b[0m \u001b[39m# then create a simple web server\u001b[39;00m\n\u001b[0;32m--> 499\u001b[0m start_server(addr, server_port, \u001b[39mself\u001b[39;49m\u001b[39m.\u001b[39;49m_path, open_webbrowser)\n",
      "File \u001b[0;32m~/miniforge3/envs/aik/lib/python3.11/site-packages/OCC/Display/WebGl/simple_server.py:83\u001b[0m, in \u001b[0;36mstart_server\u001b[0;34m(addr, port, x3d_path, open_webbrowser)\u001b[0m\n\u001b[1;32m     81\u001b[0m         webbrowser\u001b[39m.\u001b[39mopen(\u001b[39m\"\u001b[39m\u001b[39mhttp://localhost:\u001b[39m\u001b[39m%i\u001b[39;00m\u001b[39m\"\u001b[39m \u001b[39m%\u001b[39m port, new\u001b[39m=\u001b[39m\u001b[39m2\u001b[39m)\n\u001b[1;32m     82\u001b[0m     \u001b[39m# starts the web_server\u001b[39;00m\n\u001b[0;32m---> 83\u001b[0m     httpd\u001b[39m.\u001b[39;49mserve_forever()\n\u001b[1;32m     84\u001b[0m \u001b[39melse\u001b[39;00m:  \u001b[39m# use flask\u001b[39;00m\n\u001b[1;32m     85\u001b[0m     \u001b[39m# set the project root directory as the static folder, you can set others.\u001b[39;00m\n\u001b[1;32m     86\u001b[0m     app \u001b[39m=\u001b[39m Flask(\u001b[39m__name__\u001b[39m)\n",
      "File \u001b[0;32m~/miniforge3/envs/aik/lib/python3.11/socketserver.py:233\u001b[0m, in \u001b[0;36mBaseServer.serve_forever\u001b[0;34m(self, poll_interval)\u001b[0m\n\u001b[1;32m    230\u001b[0m selector\u001b[39m.\u001b[39mregister(\u001b[39mself\u001b[39m, selectors\u001b[39m.\u001b[39mEVENT_READ)\n\u001b[1;32m    232\u001b[0m \u001b[39mwhile\u001b[39;00m \u001b[39mnot\u001b[39;00m \u001b[39mself\u001b[39m\u001b[39m.\u001b[39m__shutdown_request:\n\u001b[0;32m--> 233\u001b[0m     ready \u001b[39m=\u001b[39m selector\u001b[39m.\u001b[39;49mselect(poll_interval)\n\u001b[1;32m    234\u001b[0m     \u001b[39m# bpo-35017: shutdown() called during select(), exit immediately.\u001b[39;00m\n\u001b[1;32m    235\u001b[0m     \u001b[39mif\u001b[39;00m \u001b[39mself\u001b[39m\u001b[39m.\u001b[39m__shutdown_request:\n",
      "File \u001b[0;32m~/miniforge3/envs/aik/lib/python3.11/selectors.py:415\u001b[0m, in \u001b[0;36m_PollLikeSelector.select\u001b[0;34m(self, timeout)\u001b[0m\n\u001b[1;32m    413\u001b[0m ready \u001b[39m=\u001b[39m []\n\u001b[1;32m    414\u001b[0m \u001b[39mtry\u001b[39;00m:\n\u001b[0;32m--> 415\u001b[0m     fd_event_list \u001b[39m=\u001b[39m \u001b[39mself\u001b[39m\u001b[39m.\u001b[39m_selector\u001b[39m.\u001b[39mpoll(timeout)\n\u001b[1;32m    416\u001b[0m \u001b[39mexcept\u001b[39;00m \u001b[39mInterruptedError\u001b[39;00m:\n\u001b[1;32m    417\u001b[0m     \u001b[39mreturn\u001b[39;00m ready\n",
      "\u001b[0;31mKeyboardInterrupt\u001b[0m: "
     ]
    }
   ],
   "source": [
    "my_renderer.render()"
   ]
  },
  {
   "cell_type": "code",
   "execution_count": 14,
   "metadata": {},
   "outputs": [
    {
     "name": "stdout",
     "output_type": "stream",
     "text": [
      "## x3dom webgl renderer - render axes/planes : True - axes/plane zoom factor : 1\n",
      "| meshing shapes... 100%\n",
      "Port 8080 is already in use. Picking another one.\n",
      "Using port number 35749\n",
      "\n",
      "## Serving /tmp/tmp2c5qeae5 \n",
      "## using SimpleHTTPServer\n",
      "## Open your webbrowser at the URL: http://localhost:35749\n",
      "## CTRL-C to shutdown the server\n"
     ]
    },
    {
     "name": "stderr",
     "output_type": "stream",
     "text": [
      "127.0.0.1 - - [26/Sep/2023 07:10:03] \"GET / HTTP/1.1\" 200 -\n",
      "127.0.0.1 - - [26/Sep/2023 07:10:08] code 404, message File not found\n",
      "127.0.0.1 - - [26/Sep/2023 07:10:08] \"GET /favicon.ico HTTP/1.1\" 404 -\n",
      "127.0.0.1 - - [26/Sep/2023 07:10:08] \"GET /shp68ff82af211d40ef8cd5f9e9a2bcf4cf.x3d HTTP/1.1\" 200 -\n"
     ]
    },
    {
     "ename": "KeyboardInterrupt",
     "evalue": "",
     "output_type": "error",
     "traceback": [
      "\u001b[0;31m---------------------------------------------------------------------------\u001b[0m",
      "\u001b[0;31mKeyboardInterrupt\u001b[0m                         Traceback (most recent call last)",
      "Cell \u001b[0;32mIn[14], line 3\u001b[0m\n\u001b[1;32m      1\u001b[0m beam_renderer \u001b[39m=\u001b[39m x3dom_renderer\u001b[39m.\u001b[39mX3DomRenderer()\n\u001b[1;32m      2\u001b[0m beam_renderer\u001b[39m.\u001b[39mDisplayShape(beam_shape)\n\u001b[0;32m----> 3\u001b[0m beam_renderer\u001b[39m.\u001b[39;49mrender()\n",
      "File \u001b[0;32m~/miniforge3/envs/aik/lib/python3.11/site-packages/OCC/Display/WebGl/x3dom_renderer.py:499\u001b[0m, in \u001b[0;36mX3DomRenderer.render\u001b[0;34m(self, addr, server_port, open_webbrowser)\u001b[0m\n\u001b[1;32m    497\u001b[0m \u001b[39mself\u001b[39m\u001b[39m.\u001b[39mgenerate_html_file(\u001b[39mself\u001b[39m\u001b[39m.\u001b[39m_axes_plane, \u001b[39mself\u001b[39m\u001b[39m.\u001b[39m_axes_plane_zoom_factor)\n\u001b[1;32m    498\u001b[0m \u001b[39m# then create a simple web server\u001b[39;00m\n\u001b[0;32m--> 499\u001b[0m start_server(addr, server_port, \u001b[39mself\u001b[39;49m\u001b[39m.\u001b[39;49m_path, open_webbrowser)\n",
      "File \u001b[0;32m~/miniforge3/envs/aik/lib/python3.11/site-packages/OCC/Display/WebGl/simple_server.py:83\u001b[0m, in \u001b[0;36mstart_server\u001b[0;34m(addr, port, x3d_path, open_webbrowser)\u001b[0m\n\u001b[1;32m     81\u001b[0m         webbrowser\u001b[39m.\u001b[39mopen(\u001b[39m\"\u001b[39m\u001b[39mhttp://localhost:\u001b[39m\u001b[39m%i\u001b[39;00m\u001b[39m\"\u001b[39m \u001b[39m%\u001b[39m port, new\u001b[39m=\u001b[39m\u001b[39m2\u001b[39m)\n\u001b[1;32m     82\u001b[0m     \u001b[39m# starts the web_server\u001b[39;00m\n\u001b[0;32m---> 83\u001b[0m     httpd\u001b[39m.\u001b[39;49mserve_forever()\n\u001b[1;32m     84\u001b[0m \u001b[39melse\u001b[39;00m:  \u001b[39m# use flask\u001b[39;00m\n\u001b[1;32m     85\u001b[0m     \u001b[39m# set the project root directory as the static folder, you can set others.\u001b[39;00m\n\u001b[1;32m     86\u001b[0m     app \u001b[39m=\u001b[39m Flask(\u001b[39m__name__\u001b[39m)\n",
      "File \u001b[0;32m~/miniforge3/envs/aik/lib/python3.11/socketserver.py:233\u001b[0m, in \u001b[0;36mBaseServer.serve_forever\u001b[0;34m(self, poll_interval)\u001b[0m\n\u001b[1;32m    230\u001b[0m selector\u001b[39m.\u001b[39mregister(\u001b[39mself\u001b[39m, selectors\u001b[39m.\u001b[39mEVENT_READ)\n\u001b[1;32m    232\u001b[0m \u001b[39mwhile\u001b[39;00m \u001b[39mnot\u001b[39;00m \u001b[39mself\u001b[39m\u001b[39m.\u001b[39m__shutdown_request:\n\u001b[0;32m--> 233\u001b[0m     ready \u001b[39m=\u001b[39m selector\u001b[39m.\u001b[39;49mselect(poll_interval)\n\u001b[1;32m    234\u001b[0m     \u001b[39m# bpo-35017: shutdown() called during select(), exit immediately.\u001b[39;00m\n\u001b[1;32m    235\u001b[0m     \u001b[39mif\u001b[39;00m \u001b[39mself\u001b[39m\u001b[39m.\u001b[39m__shutdown_request:\n",
      "File \u001b[0;32m~/miniforge3/envs/aik/lib/python3.11/selectors.py:415\u001b[0m, in \u001b[0;36m_PollLikeSelector.select\u001b[0;34m(self, timeout)\u001b[0m\n\u001b[1;32m    413\u001b[0m ready \u001b[39m=\u001b[39m []\n\u001b[1;32m    414\u001b[0m \u001b[39mtry\u001b[39;00m:\n\u001b[0;32m--> 415\u001b[0m     fd_event_list \u001b[39m=\u001b[39m \u001b[39mself\u001b[39m\u001b[39m.\u001b[39m_selector\u001b[39m.\u001b[39mpoll(timeout)\n\u001b[1;32m    416\u001b[0m \u001b[39mexcept\u001b[39;00m \u001b[39mInterruptedError\u001b[39;00m:\n\u001b[1;32m    417\u001b[0m     \u001b[39mreturn\u001b[39;00m ready\n",
      "\u001b[0;31mKeyboardInterrupt\u001b[0m: "
     ]
    }
   ],
   "source": [
    "beam_renderer = x3dom_renderer.X3DomRenderer()\n",
    "beam_renderer.DisplayShape(beam_shape)\n",
    "beam_renderer.render()"
   ]
  },
  {
   "cell_type": "code",
   "execution_count": 15,
   "metadata": {},
   "outputs": [
    {
     "name": "stdout",
     "output_type": "stream",
     "text": [
      "## x3dom webgl renderer - render axes/planes : True - axes/plane zoom factor : 1\n",
      "/ meshing shapes... 100%\n",
      "Port 8080 is already in use. Picking another one.\n",
      "Using port number 59555\n",
      "\n",
      "## Serving /tmp/tmpat5ma33n \n",
      "## using SimpleHTTPServer\n",
      "## Open your webbrowser at the URL: http://localhost:59555\n",
      "## CTRL-C to shutdown the server\n"
     ]
    },
    {
     "name": "stderr",
     "output_type": "stream",
     "text": [
      "127.0.0.1 - - [26/Sep/2023 07:11:44] \"GET / HTTP/1.1\" 200 -\n",
      "127.0.0.1 - - [26/Sep/2023 07:11:49] code 404, message File not found\n",
      "127.0.0.1 - - [26/Sep/2023 07:11:49] \"GET /favicon.ico HTTP/1.1\" 404 -\n",
      "127.0.0.1 - - [26/Sep/2023 07:11:49] \"GET /shp84b6a27a42934f9fb3738bf339e32008.x3d HTTP/1.1\" 200 -\n",
      "127.0.0.1 - - [26/Sep/2023 07:11:49] \"GET /shp812e7e8cd2eb4671be31ae4d38d485c9.x3d HTTP/1.1\" 200 -\n"
     ]
    },
    {
     "ename": "KeyboardInterrupt",
     "evalue": "",
     "output_type": "error",
     "traceback": [
      "\u001b[0;31m---------------------------------------------------------------------------\u001b[0m",
      "\u001b[0;31mKeyboardInterrupt\u001b[0m                         Traceback (most recent call last)",
      "Cell \u001b[0;32mIn[15], line 4\u001b[0m\n\u001b[1;32m      2\u001b[0m full_renderer\u001b[39m.\u001b[39mDisplayShape(beam_shape)\n\u001b[1;32m      3\u001b[0m full_renderer\u001b[39m.\u001b[39mDisplayShape(wall_shape)\n\u001b[0;32m----> 4\u001b[0m full_renderer\u001b[39m.\u001b[39;49mrender()\n",
      "File \u001b[0;32m~/miniforge3/envs/aik/lib/python3.11/site-packages/OCC/Display/WebGl/x3dom_renderer.py:499\u001b[0m, in \u001b[0;36mX3DomRenderer.render\u001b[0;34m(self, addr, server_port, open_webbrowser)\u001b[0m\n\u001b[1;32m    497\u001b[0m \u001b[39mself\u001b[39m\u001b[39m.\u001b[39mgenerate_html_file(\u001b[39mself\u001b[39m\u001b[39m.\u001b[39m_axes_plane, \u001b[39mself\u001b[39m\u001b[39m.\u001b[39m_axes_plane_zoom_factor)\n\u001b[1;32m    498\u001b[0m \u001b[39m# then create a simple web server\u001b[39;00m\n\u001b[0;32m--> 499\u001b[0m start_server(addr, server_port, \u001b[39mself\u001b[39;49m\u001b[39m.\u001b[39;49m_path, open_webbrowser)\n",
      "File \u001b[0;32m~/miniforge3/envs/aik/lib/python3.11/site-packages/OCC/Display/WebGl/simple_server.py:83\u001b[0m, in \u001b[0;36mstart_server\u001b[0;34m(addr, port, x3d_path, open_webbrowser)\u001b[0m\n\u001b[1;32m     81\u001b[0m         webbrowser\u001b[39m.\u001b[39mopen(\u001b[39m\"\u001b[39m\u001b[39mhttp://localhost:\u001b[39m\u001b[39m%i\u001b[39;00m\u001b[39m\"\u001b[39m \u001b[39m%\u001b[39m port, new\u001b[39m=\u001b[39m\u001b[39m2\u001b[39m)\n\u001b[1;32m     82\u001b[0m     \u001b[39m# starts the web_server\u001b[39;00m\n\u001b[0;32m---> 83\u001b[0m     httpd\u001b[39m.\u001b[39;49mserve_forever()\n\u001b[1;32m     84\u001b[0m \u001b[39melse\u001b[39;00m:  \u001b[39m# use flask\u001b[39;00m\n\u001b[1;32m     85\u001b[0m     \u001b[39m# set the project root directory as the static folder, you can set others.\u001b[39;00m\n\u001b[1;32m     86\u001b[0m     app \u001b[39m=\u001b[39m Flask(\u001b[39m__name__\u001b[39m)\n",
      "File \u001b[0;32m~/miniforge3/envs/aik/lib/python3.11/socketserver.py:233\u001b[0m, in \u001b[0;36mBaseServer.serve_forever\u001b[0;34m(self, poll_interval)\u001b[0m\n\u001b[1;32m    230\u001b[0m selector\u001b[39m.\u001b[39mregister(\u001b[39mself\u001b[39m, selectors\u001b[39m.\u001b[39mEVENT_READ)\n\u001b[1;32m    232\u001b[0m \u001b[39mwhile\u001b[39;00m \u001b[39mnot\u001b[39;00m \u001b[39mself\u001b[39m\u001b[39m.\u001b[39m__shutdown_request:\n\u001b[0;32m--> 233\u001b[0m     ready \u001b[39m=\u001b[39m selector\u001b[39m.\u001b[39;49mselect(poll_interval)\n\u001b[1;32m    234\u001b[0m     \u001b[39m# bpo-35017: shutdown() called during select(), exit immediately.\u001b[39;00m\n\u001b[1;32m    235\u001b[0m     \u001b[39mif\u001b[39;00m \u001b[39mself\u001b[39m\u001b[39m.\u001b[39m__shutdown_request:\n",
      "File \u001b[0;32m~/miniforge3/envs/aik/lib/python3.11/selectors.py:415\u001b[0m, in \u001b[0;36m_PollLikeSelector.select\u001b[0;34m(self, timeout)\u001b[0m\n\u001b[1;32m    413\u001b[0m ready \u001b[39m=\u001b[39m []\n\u001b[1;32m    414\u001b[0m \u001b[39mtry\u001b[39;00m:\n\u001b[0;32m--> 415\u001b[0m     fd_event_list \u001b[39m=\u001b[39m \u001b[39mself\u001b[39m\u001b[39m.\u001b[39m_selector\u001b[39m.\u001b[39mpoll(timeout)\n\u001b[1;32m    416\u001b[0m \u001b[39mexcept\u001b[39;00m \u001b[39mInterruptedError\u001b[39;00m:\n\u001b[1;32m    417\u001b[0m     \u001b[39mreturn\u001b[39;00m ready\n",
      "\u001b[0;31mKeyboardInterrupt\u001b[0m: "
     ]
    }
   ],
   "source": [
    "full_renderer = x3dom_renderer.X3DomRenderer()\n",
    "full_renderer.DisplayShape(beam_shape)\n",
    "full_renderer.DisplayShape(wall_shape)\n",
    "full_renderer.render()"
   ]
  },
  {
   "cell_type": "code",
   "execution_count": 16,
   "metadata": {},
   "outputs": [
    {
     "data": {
      "text/plain": [
       "OCC.Core.TopoDS.TopoDS_Compound"
      ]
     },
     "execution_count": 16,
     "metadata": {},
     "output_type": "execute_result"
    }
   ],
   "source": [
    "type(wall_shape)"
   ]
  },
  {
   "cell_type": "code",
   "execution_count": 17,
   "metadata": {},
   "outputs": [
    {
     "data": {
      "text/plain": [
       "OCC.Core.TopoDS.TopoDS_Compound"
      ]
     },
     "execution_count": 17,
     "metadata": {},
     "output_type": "execute_result"
    }
   ],
   "source": [
    "type(beam_shape)"
   ]
  },
  {
   "cell_type": "code",
   "execution_count": 18,
   "metadata": {},
   "outputs": [],
   "source": [
    "w_shape = ifcopenshell.geom.create_shape(settings, wall)"
   ]
  }
 ],
 "metadata": {
  "kernelspec": {
   "display_name": "Python 3",
   "language": "python",
   "name": "python3"
  },
  "language_info": {
   "codemirror_mode": {
    "name": "ipython",
    "version": 3
   },
   "file_extension": ".py",
   "mimetype": "text/x-python",
   "name": "python",
   "nbconvert_exporter": "python",
   "pygments_lexer": "ipython3",
   "version": "3.11.0"
  },
  "orig_nbformat": 4
 },
 "nbformat": 4,
 "nbformat_minor": 2
}
