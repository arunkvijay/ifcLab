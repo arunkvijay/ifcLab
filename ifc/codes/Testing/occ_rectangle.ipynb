{
 "cells": [
  {
   "cell_type": "code",
   "execution_count": 8,
   "metadata": {},
   "outputs": [],
   "source": [
    "from OCC.Core.gp import gp_Pnt\n",
    "from OCC.Core.BRepBuilderAPI import BRepBuilderAPI_MakeEdge, BRepBuilderAPI_MakeWire\n",
    "from OCC.Core.BRepBuilderAPI import BRepBuilderAPI_MakeFace\n",
    "from OCC.Core.TopoDS import TopoDS_Compound\n",
    "from OCC.Display.SimpleGui import init_display"
   ]
  },
  {
   "cell_type": "code",
   "execution_count": 9,
   "metadata": {},
   "outputs": [],
   "source": [
    "pts = [\n",
    "    gp_Pnt(0,0,0),\n",
    "    gp_Pnt(5,0,0),\n",
    "    gp_Pnt(5,3,0),\n",
    "    gp_Pnt(0,3,0)\n",
    "]"
   ]
  },
  {
   "cell_type": "code",
   "execution_count": 12,
   "metadata": {},
   "outputs": [
    {
     "data": {
      "text/plain": [
       "<class 'gp_Pnt'>"
      ]
     },
     "execution_count": 12,
     "metadata": {},
     "output_type": "execute_result"
    }
   ],
   "source": [
    "pts[0]"
   ]
  },
  {
   "cell_type": "code",
   "execution_count": 13,
   "metadata": {},
   "outputs": [],
   "source": [
    "edges = []\n",
    "for i in range(len(pts)):\n",
    "    start_point = pts[i]\n",
    "    end_point = pts[(i+1) % len(pts)]\n",
    "    edge_builder = BRepBuilderAPI_MakeEdge(start_point, end_point)\n",
    "    edges.append(edge_builder.Edge())"
   ]
  },
  {
   "cell_type": "code",
   "execution_count": 14,
   "metadata": {},
   "outputs": [
    {
     "data": {
      "text/plain": [
       "[<class 'TopoDS_Edge'>,\n",
       " <class 'TopoDS_Edge'>,\n",
       " <class 'TopoDS_Edge'>,\n",
       " <class 'TopoDS_Edge'>]"
      ]
     },
     "execution_count": 14,
     "metadata": {},
     "output_type": "execute_result"
    }
   ],
   "source": [
    "edges"
   ]
  },
  {
   "cell_type": "code",
   "execution_count": 15,
   "metadata": {},
   "outputs": [],
   "source": [
    "wire_builder = BRepBuilderAPI_MakeWire()\n",
    "for edge in edges:\n",
    "    wire_builder.Add(edge)"
   ]
  },
  {
   "cell_type": "code",
   "execution_count": 16,
   "metadata": {},
   "outputs": [
    {
     "data": {
      "text/plain": [
       "<class 'BRepBuilderAPI_MakeWire'>"
      ]
     },
     "execution_count": 16,
     "metadata": {},
     "output_type": "execute_result"
    }
   ],
   "source": [
    "wire_builder"
   ]
  },
  {
   "cell_type": "code",
   "execution_count": 17,
   "metadata": {},
   "outputs": [],
   "source": [
    "face_builder = BRepBuilderAPI_MakeFace(wire_builder.Wire())"
   ]
  },
  {
   "cell_type": "code",
   "execution_count": 18,
   "metadata": {},
   "outputs": [
    {
     "data": {
      "text/plain": [
       "<class 'BRepBuilderAPI_MakeFace'>"
      ]
     },
     "execution_count": 18,
     "metadata": {},
     "output_type": "execute_result"
    }
   ],
   "source": [
    "face_builder"
   ]
  },
  {
   "cell_type": "code",
   "execution_count": 19,
   "metadata": {},
   "outputs": [
    {
     "name": "stdout",
     "output_type": "stream",
     "text": [
      "qt-pyside2 backend - Qt version 5.15.8\n",
      "####### 3D rendering pipe initialisation #####\n",
      "Display3d class initialization starting ...\n",
      "Aspect_DisplayConnection created.\n",
      "OpenGl_GraphicDriver created.\n",
      "V3d_Viewer created.\n",
      "AIS_InteractiveContext created.\n",
      "V3d_View created\n",
      "Xw_Window created.\n",
      "\u001b[33;1mTKOpenGl | Type: Other | ID: 0 | Severity: Medium | Message:\n",
      "  OpenGl_Window::CreateWindow: window Visual is incomplete: no stencil buffer\u001b[0m\n",
      "Display3d class successfully initialized.\n",
      "#########################################\n",
      "OpenGl information:\n",
      "  GLvendor: NVIDIA Corporation\n",
      "  GLdevice: NVIDIA GeForce RTX 4060 Ti/PCIe/SSE2\n",
      "  GLversion: 4.6.0 NVIDIA 525.147.05\n",
      "  GLSLversion: 4.60 NVIDIA\n",
      "  Max texture size: 32768\n",
      "  Max FBO dump size: 32768x32768\n",
      "  Max combined texture units: 192\n",
      "  Max MSAA samples: 32\n",
      "  Viewport: 1023x767\n",
      "  Window buffer: RGB8 ALPHA0 DEPTH24 STENCIL0\n",
      "  ResolutionRatio: 1\n",
      "  FBO buffer: GL_SRGB8_ALPHA8 GL_DEPTH24_STENCIL8\n"
     ]
    }
   ],
   "source": [
    "display, start_display, add_menu, add_function_to_menu = init_display()"
   ]
  },
  {
   "cell_type": "code",
   "execution_count": 20,
   "metadata": {},
   "outputs": [
    {
     "name": "stdout",
     "output_type": "stream",
     "text": [
      "INFO:OCC.Display.qtDisplay:key: code 16777251 not mapped to any function\n",
      "INFO:OCC.Display.qtDisplay:key: code 16777251 not mapped to any function\n",
      "INFO:OCC.Display.qtDisplay:key: code 16777251 not mapped to any function\n",
      "INFO:OCC.Display.qtDisplay:key: code 16777251 not mapped to any function\n",
      "INFO:OCC.Display.qtDisplay:key: code 16777251 not mapped to any function\n",
      "INFO:OCC.Display.qtDisplay:key: code 16777299 not mapped to any function\n",
      "INFO:OCC.Display.qtDisplay:key: code 16777251 not mapped to any function\n",
      "INFO:OCC.Display.qtDisplay:key: code 16777251 not mapped to any function\n",
      "INFO:OCC.Display.qtDisplay:key: code 16777251 not mapped to any function\n"
     ]
    },
    {
     "ename": "KeyboardInterrupt",
     "evalue": "",
     "output_type": "error",
     "traceback": [
      "\u001b[0;31m---------------------------------------------------------------------------\u001b[0m",
      "\u001b[0;31mKeyboardInterrupt\u001b[0m                         Traceback (most recent call last)",
      "File \u001b[0;32m~/miniforge3/envs/aik/lib/python3.11/site-packages/OCC/Display/qtDisplay.py:151\u001b[0m, in \u001b[0;36mqtViewer3d.focusInEvent\u001b[0;34m(self, event)\u001b[0m\n\u001b[1;32m    148\u001b[0m     \u001b[39melse\u001b[39;00m:\n\u001b[1;32m    149\u001b[0m         log\u001b[39m.\u001b[39minfo(\u001b[39m\"\u001b[39m\u001b[39mkey: code \u001b[39m\u001b[39m%i\u001b[39;00m\u001b[39m not mapped to any function\u001b[39m\u001b[39m\"\u001b[39m \u001b[39m%\u001b[39m code)\n\u001b[0;32m--> 151\u001b[0m \u001b[39mdef\u001b[39;00m \u001b[39mfocusInEvent\u001b[39m(\u001b[39mself\u001b[39m, event):\n\u001b[1;32m    152\u001b[0m     \u001b[39mif\u001b[39;00m \u001b[39mself\u001b[39m\u001b[39m.\u001b[39m_inited:\n\u001b[1;32m    153\u001b[0m         \u001b[39mself\u001b[39m\u001b[39m.\u001b[39m_display\u001b[39m.\u001b[39mRepaint()\n",
      "\u001b[0;31mKeyboardInterrupt\u001b[0m: "
     ]
    }
   ],
   "source": [
    "display.DisplayShape(face_builder.Face(), update=True)\n",
    "start_display()"
   ]
  },
  {
   "cell_type": "code",
   "execution_count": 22,
   "metadata": {},
   "outputs": [
    {
     "data": {
      "text/plain": [
       "OCC.Core.TopoDS.TopoDS_Face"
      ]
     },
     "execution_count": 22,
     "metadata": {},
     "output_type": "execute_result"
    }
   ],
   "source": [
    "type(face_builder.Face())"
   ]
  },
  {
   "cell_type": "code",
   "execution_count": 23,
   "metadata": {},
   "outputs": [
    {
     "data": {
      "text/plain": [
       "['ChangeRenderingParams',\n",
       " 'Context',\n",
       " 'Create',\n",
       " 'DisableAntiAliasing',\n",
       " 'DisableTextureEnv',\n",
       " 'DisableVBO',\n",
       " 'DisplayColoredShape',\n",
       " 'DisplayMessage',\n",
       " 'DisplayShape',\n",
       " 'DisplayVector',\n",
       " 'DynamicZoom',\n",
       " 'EnableAntiAliasing',\n",
       " 'EnableTextureEnv',\n",
       " 'EnableVBO',\n",
       " 'EraseAll',\n",
       " 'ExportToImage',\n",
       " 'FitAll',\n",
       " 'GetContext',\n",
       " 'GetImageData',\n",
       " 'GetSelectedShape',\n",
       " 'GetSelectedShapes',\n",
       " 'GetSize',\n",
       " 'GetView',\n",
       " 'GetViewer',\n",
       " 'GlInfo',\n",
       " 'Init',\n",
       " 'InitOffscreen',\n",
       " 'IsOffscreen',\n",
       " 'MoveTo',\n",
       " 'OnResize',\n",
       " 'Pan',\n",
       " 'Repaint',\n",
       " 'ResetView',\n",
       " 'Rotation',\n",
       " 'Select',\n",
       " 'SelectArea',\n",
       " 'SetAnaglyphMode',\n",
       " 'SetBackgroundImage',\n",
       " 'SetModeHLR',\n",
       " 'SetModeShaded',\n",
       " 'SetModeWireFrame',\n",
       " 'SetNbMsaaSample',\n",
       " 'SetOrthographicProjection',\n",
       " 'SetPerspectiveProjection',\n",
       " 'SetRasterizationMode',\n",
       " 'SetRaytracingMode',\n",
       " 'SetRenderingParams',\n",
       " 'SetSelectionMode',\n",
       " 'SetSelectionModeEdge',\n",
       " 'SetSelectionModeFace',\n",
       " 'SetSelectionModeNeutral',\n",
       " 'SetSelectionModeShape',\n",
       " 'SetSelectionModeVertex',\n",
       " 'SetSize',\n",
       " 'ShiftSelect',\n",
       " 'StartRotation',\n",
       " 'Test',\n",
       " 'Tumble',\n",
       " 'View',\n",
       " 'View_Bottom',\n",
       " 'View_Front',\n",
       " 'View_Iso',\n",
       " 'View_Left',\n",
       " 'View_Rear',\n",
       " 'View_Right',\n",
       " 'View_Top',\n",
       " 'Viewer',\n",
       " 'Zoom',\n",
       " 'ZoomArea',\n",
       " 'ZoomFactor',\n",
       " '__class__',\n",
       " '__delattr__',\n",
       " '__dict__',\n",
       " '__dir__',\n",
       " '__doc__',\n",
       " '__eq__',\n",
       " '__format__',\n",
       " '__ge__',\n",
       " '__getattribute__',\n",
       " '__getstate__',\n",
       " '__gt__',\n",
       " '__hash__',\n",
       " '__init__',\n",
       " '__init_subclass__',\n",
       " '__le__',\n",
       " '__lt__',\n",
       " '__module__',\n",
       " '__ne__',\n",
       " '__new__',\n",
       " '__reduce__',\n",
       " '__reduce_ex__',\n",
       " '__repr__',\n",
       " '__setattr__',\n",
       " '__sizeof__',\n",
       " '__str__',\n",
       " '__subclasshook__',\n",
       " '__swig_destroy__',\n",
       " '__weakref__',\n",
       " '_inited',\n",
       " '_is_offscreen',\n",
       " '_local_context_opened',\n",
       " '_overlay_items',\n",
       " '_parent',\n",
       " '_select_callbacks',\n",
       " '_struc_mgr',\n",
       " '_window_handle',\n",
       " 'camera',\n",
       " 'default_drawer',\n",
       " 'display_graduated_trihedron',\n",
       " 'display_triedron',\n",
       " 'get_parent',\n",
       " 'hide_triedron',\n",
       " 'register_overlay_item',\n",
       " 'register_select_callback',\n",
       " 'selected_shapes',\n",
       " 'set_bg_gradient_color',\n",
       " 'this',\n",
       " 'thisown',\n",
       " 'unregister_callback']"
      ]
     },
     "execution_count": 23,
     "metadata": {},
     "output_type": "execute_result"
    }
   ],
   "source": [
    "dir(display)"
   ]
  },
  {
   "cell_type": "code",
   "execution_count": null,
   "metadata": {},
   "outputs": [],
   "source": []
  }
 ],
 "metadata": {
  "kernelspec": {
   "display_name": "aik",
   "language": "python",
   "name": "python3"
  },
  "language_info": {
   "codemirror_mode": {
    "name": "ipython",
    "version": 3
   },
   "file_extension": ".py",
   "mimetype": "text/x-python",
   "name": "python",
   "nbconvert_exporter": "python",
   "pygments_lexer": "ipython3",
   "version": "3.11.0"
  }
 },
 "nbformat": 4,
 "nbformat_minor": 2
}
