{
 "cells": [
  {
   "cell_type": "code",
   "execution_count": 1,
   "metadata": {},
   "outputs": [],
   "source": [
    "from OCC.Core.gp import gp_Trsf, gp_Vec\n",
    "from OCC.Core.BRepBuilderAPI import BRepBuilderAPI_Transform\n",
    "from OCC.Core.BRepPrimAPI import BRepPrimAPI_MakeBox\n",
    "from OCC.Core.TopoDS import TopoDS_Shape\n",
    "from OCC.Core.TopExp import TopExp_Explorer\n",
    "from OCC.Core.TopAbs import TopAbs_FACE"
   ]
  },
  {
   "cell_type": "code",
   "execution_count": 6,
   "metadata": {},
   "outputs": [],
   "source": [
    "def offset_face(shape, face_index, offset_distance, shrink_factor):\n",
    "    explorer = TopExp_Explorer(shape, TopAbs_FACE)\n",
    "    for i in range(face_index):\n",
    "        explorer.Next()\n",
    "    selected_face = explorer.Current()\n",
    "    offset_vector = gp_Vec(0,0,offset_distance)\n",
    "    #offset_transform = gp_Trsf()\n",
    "    #offset_transform.SetTranslation(offset_vector)\n",
    "    #offset_builder = BRepBuilderAPI_Transform(selected_face, offset_transform)\n",
    "    #offset_face = offset_builder.Shape()\n",
    "    shrink_vector = gp_Vec(1-shrink_factor, 1-shrink_factor, 1-shrink_factor)\n",
    "    shrink_transform = gp_Trsf()\n",
    "    breakpoint()\n",
    "    shrink_transform.SetScale(shrink_vector)\n",
    "    shrink_builder = BRepBuilderAPI_Transform(offset_face, shrink_transform)\n",
    "    shrinked_face = shrink_builder.Shape()\n",
    "    #return offset_face\n",
    "    return shrinked_face"
   ]
  },
  {
   "cell_type": "code",
   "execution_count": 3,
   "metadata": {},
   "outputs": [],
   "source": [
    "cuboid = BRepPrimAPI_MakeBox(10,20,30).Shape()"
   ]
  },
  {
   "cell_type": "code",
   "execution_count": 4,
   "metadata": {},
   "outputs": [],
   "source": [
    "selected_face_index = 2\n",
    "offset_distance = 5\n",
    "shrink_factor = 0.2"
   ]
  },
  {
   "cell_type": "code",
   "execution_count": 9,
   "metadata": {},
   "outputs": [
    {
     "ename": "TypeError",
     "evalue": "gp_Trsf_SetScale expected 3 arguments, got 2",
     "output_type": "error",
     "traceback": [
      "\u001b[0;31m---------------------------------------------------------------------------\u001b[0m",
      "\u001b[0;31mTypeError\u001b[0m                                 Traceback (most recent call last)",
      "\u001b[1;32m/home/occ_offset_face.ipynb Cell 5\u001b[0m line \u001b[0;36m1\n\u001b[0;32m----> <a href='vscode-notebook-cell:/home/occ_offset_face.ipynb#W4sZmlsZQ%3D%3D?line=0'>1</a>\u001b[0m result_shape \u001b[39m=\u001b[39m offset_face(cuboid, selected_face_index, offset_distance, shrink_factor)\n",
      "\u001b[1;32m/home/occ_offset_face.ipynb Cell 5\u001b[0m line \u001b[0;36m1\n\u001b[1;32m     <a href='vscode-notebook-cell:/home/occ_offset_face.ipynb#W4sZmlsZQ%3D%3D?line=11'>12</a>\u001b[0m shrink_transform \u001b[39m=\u001b[39m gp_Trsf()\n\u001b[1;32m     <a href='vscode-notebook-cell:/home/Testing/occ_offset_face.ipynb#W4sZmlsZQ%3D%3D?line=12'>13</a>\u001b[0m \u001b[39mbreakpoint\u001b[39m()\n\u001b[0;32m---> <a href='vscode-notebook-cell:/home/occ_offset_face.ipynb#W4sZmlsZQ%3D%3D?line=13'>14</a>\u001b[0m shrink_transform\u001b[39m.\u001b[39;49mSetScale(shrink_vector)\n\u001b[1;32m     <a href='vscode-notebook-cell:/home/occ_offset_face.ipynb#W4sZmlsZQ%3D%3D?line=14'>15</a>\u001b[0m shrink_builder \u001b[39m=\u001b[39m BRepBuilderAPI_Transform(offset_face, shrink_transform)\n\u001b[1;32m     <a href='vscode-notebook-cell:/home/occ_offset_face.ipynb#W4sZmlsZQ%3D%3D?line=15'>16</a>\u001b[0m shrinked_face \u001b[39m=\u001b[39m shrink_builder\u001b[39m.\u001b[39mShape()\n",
      "File \u001b[0;32m~/miniforge3/envs/aik/lib/python3.11/site-packages/OCC/Core/gp.py:15305\u001b[0m, in \u001b[0;36mgp_Trsf.SetScale\u001b[0;34m(self, *args)\u001b[0m\n\u001b[1;32m  15291\u001b[0m \u001b[39mdef\u001b[39;00m \u001b[39mSetScale\u001b[39m(\u001b[39mself\u001b[39m, \u001b[39m*\u001b[39margs) \u001b[39m-\u001b[39m\u001b[39m>\u001b[39m \u001b[39m\"\u001b[39m\u001b[39mvoid\u001b[39m\u001b[39m\"\u001b[39m:\n\u001b[1;32m  15292\u001b[0m \u001b[39m    \u001b[39m\u001b[39mr\u001b[39m\u001b[39m\"\"\"\u001b[39;00m\n\u001b[1;32m  15293\u001b[0m \u001b[39m    Changes the transformation into a scale. thep is the center of the scale and thes is the scaling value. raises constructionerror if <thes> is null.\u001b[39;00m\n\u001b[1;32m  15294\u001b[0m \n\u001b[0;32m   (...)\u001b[0m\n\u001b[1;32m  15303\u001b[0m \n\u001b[1;32m  15304\u001b[0m \u001b[39m    \"\"\"\u001b[39;00m\n\u001b[0;32m> 15305\u001b[0m     \u001b[39mreturn\u001b[39;00m _gp\u001b[39m.\u001b[39;49mgp_Trsf_SetScale(\u001b[39mself\u001b[39;49m, \u001b[39m*\u001b[39;49margs)\n",
      "\u001b[0;31mTypeError\u001b[0m: gp_Trsf_SetScale expected 3 arguments, got 2"
     ]
    }
   ],
   "source": [
    "result_shape = offset_face(cuboid, selected_face_index, offset_distance, shrink_factor)"
   ]
  },
  {
   "cell_type": "code",
   "execution_count": null,
   "metadata": {},
   "outputs": [],
   "source": [
    "from OCC.Display.SimpleGui import init_display"
   ]
  },
  {
   "cell_type": "code",
   "execution_count": null,
   "metadata": {},
   "outputs": [],
   "source": [
    "display, start_display, add_menu, add_function_to_menu = init_display()\n",
    "display.DisplayShape(result_shape)\n",
    "display.DisplayShape(cuboid)\n",
    "start_display()"
   ]
  },
  {
   "cell_type": "code",
   "execution_count": null,
   "metadata": {},
   "outputs": [],
   "source": []
  }
 ],
 "metadata": {
  "kernelspec": {
   "display_name": "aik",
   "language": "python",
   "name": "python3"
  },
  "language_info": {
   "codemirror_mode": {
    "name": "ipython",
    "version": 3
   },
   "file_extension": ".py",
   "mimetype": "text/x-python",
   "name": "python",
   "nbconvert_exporter": "python",
   "pygments_lexer": "ipython3",
   "version": "3.11.0"
  }
 },
 "nbformat": 4,
 "nbformat_minor": 2
}
