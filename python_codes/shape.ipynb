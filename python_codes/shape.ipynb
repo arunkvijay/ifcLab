{
 "cells": [
  {
   "cell_type": "code",
   "execution_count": 1,
   "id": "87aea8cc-30d2-48e7-bcc3-6c8407f4737e",
   "metadata": {
    "tags": []
   },
   "outputs": [],
   "source": [
    "import ifcopenshell\n",
    "import ifcopenshell.geom\n",
    "from ifcopenshell.util import placement"
   ]
  },
  {
   "cell_type": "code",
   "execution_count": 2,
   "id": "70964c3e-71e9-42c8-ae27-b54a02ccd858",
   "metadata": {
    "tags": []
   },
   "outputs": [],
   "source": [
    "path = '/home/arun/work/ai.k/Lab/ifctesting/translation.ifc'\n",
    "f = ifcopenshell.open(path)"
   ]
  },
  {
   "cell_type": "code",
   "execution_count": 3,
   "id": "ff7212a7-09f8-46ea-8ed2-b04675f2aecb",
   "metadata": {
    "tags": []
   },
   "outputs": [],
   "source": [
    "beam = f.by_type('IfcBeam')[0]\n",
    "beam_plc = placement.get_local_placement(beam.ObjectPlacement)"
   ]
  },
  {
   "cell_type": "code",
   "execution_count": 4,
   "id": "9ca55087-ab51-41e4-8c3a-f7e8ed9431d0",
   "metadata": {
    "tags": []
   },
   "outputs": [],
   "source": [
    "settings = ifcopenshell.geom.settings()\n",
    "settings.set(settings.USE_PYTHON_OPENCASCADE, True)"
   ]
  },
  {
   "cell_type": "code",
   "execution_count": 5,
   "id": "06d86800-9804-4830-bf1e-13f8587e202e",
   "metadata": {
    "tags": []
   },
   "outputs": [],
   "source": [
    "shape = ifcopenshell.geom.create_shape(settings, beam)"
   ]
  },
  {
   "cell_type": "code",
   "execution_count": 7,
   "id": "79ff17d5-724a-40bd-bb48-e830697ae982",
   "metadata": {
    "tags": []
   },
   "outputs": [],
   "source": [
    "geometry = shape.geometry"
   ]
  },
  {
   "cell_type": "code",
   "execution_count": 12,
   "id": "7ac80cda-b492-4d6b-8abd-8058116a16ac",
   "metadata": {
    "tags": []
   },
   "outputs": [],
   "source": [
    "shape_gpXYZ = geometry.Location().Transformation().TranslationPart()"
   ]
  },
  {
   "cell_type": "code",
   "execution_count": 14,
   "id": "20f2163f-7114-4b54-9685-27ac3698f407",
   "metadata": {
    "tags": []
   },
   "outputs": [
    {
     "data": {
      "text/plain": [
       "(0.0, 0.0, 0.0)"
      ]
     },
     "execution_count": 14,
     "metadata": {},
     "output_type": "execute_result"
    }
   ],
   "source": [
    "shape_gpXYZ.X(), shape_gpXYZ.Y(), shape_gpXYZ.Z()"
   ]
  },
  {
   "cell_type": "code",
   "execution_count": 26,
   "id": "ebdbd177-83aa-40cc-82b1-423871237d11",
   "metadata": {
    "tags": []
   },
   "outputs": [
    {
     "data": {
      "text/plain": [
       "0"
      ]
     },
     "execution_count": 26,
     "metadata": {},
     "output_type": "execute_result"
    }
   ],
   "source": [
    "shape.geometry.Orientation()"
   ]
  },
  {
   "cell_type": "code",
   "execution_count": null,
   "id": "c2d62d2b-3b9b-4c54-a03d-ab6cb4152794",
   "metadata": {},
   "outputs": [],
   "source": []
  }
 ],
 "metadata": {
  "kernelspec": {
   "display_name": "Python 3 (ipykernel)",
   "language": "python",
   "name": "python3"
  },
  "language_info": {
   "codemirror_mode": {
    "name": "ipython",
    "version": 3
   },
   "file_extension": ".py",
   "mimetype": "text/x-python",
   "name": "python",
   "nbconvert_exporter": "python",
   "pygments_lexer": "ipython3",
   "version": "3.11.0"
  }
 },
 "nbformat": 4,
 "nbformat_minor": 5
}
